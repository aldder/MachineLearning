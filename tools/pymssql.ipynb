{
 "cells": [
  {
   "cell_type": "markdown",
   "metadata": {},
   "source": [
    "# Connect to SQL Server"
   ]
  },
  {
   "cell_type": "code",
   "execution_count": null,
   "metadata": {
    "ExecuteTime": {
     "end_time": "2019-09-20T14:28:45.729335Z",
     "start_time": "2019-09-20T14:28:45.726328Z"
    }
   },
   "outputs": [],
   "source": [
    "import pymssql\n",
    "import pandas as pd"
   ]
  },
  {
   "cell_type": "code",
   "execution_count": null,
   "metadata": {
    "ExecuteTime": {
     "end_time": "2019-09-20T14:28:50.062213Z",
     "start_time": "2019-09-20T14:28:49.933205Z"
    }
   },
   "outputs": [],
   "source": [
    "## instance a python db connection object- same form as psycopg2/python-mysql drivers also\n",
    "conn = pymssql.connect(server=\"SERVER_NAME\", user=\"USERNAME\",password=\"PASSWORD\")"
   ]
  },
  {
   "cell_type": "code",
   "execution_count": null,
   "metadata": {
    "ExecuteTime": {
     "end_time": "2019-09-20T14:28:51.930716Z",
     "start_time": "2019-09-20T14:28:51.926708Z"
    }
   },
   "outputs": [],
   "source": [
    "# Define query\n",
    "query = \"\"\"\n",
    "     SQL QUERY HERE\n",
    "    \"\"\""
   ]
  },
  {
   "cell_type": "code",
   "execution_count": null,
   "metadata": {
    "ExecuteTime": {
     "end_time": "2019-09-20T14:28:56.173632Z",
     "start_time": "2019-09-20T14:28:56.168872Z"
    }
   },
   "outputs": [],
   "source": [
    "def pandas_query(query, connection, check=True):\n",
    "    df = pd.read_sql_query(query, connection)\n",
    "    if check and df.empty: raise Exception(f'{query} returned 0 elements')\n",
    "    return df"
   ]
  },
  {
   "cell_type": "code",
   "execution_count": null,
   "metadata": {
    "ExecuteTime": {
     "end_time": "2019-09-20T14:29:32.675883Z",
     "start_time": "2019-09-20T14:29:29.982973Z"
    }
   },
   "outputs": [],
   "source": [
    "# Excute Query\n",
    "df = pandas_query(query=query,\n",
    "                   connection=conn,\n",
    "                   check=True)"
   ]
  },
  {
   "cell_type": "code",
   "execution_count": null,
   "metadata": {},
   "outputs": [],
   "source": []
  }
 ],
 "metadata": {
  "hide_input": false,
  "kernelspec": {
   "display_name": "Python 3",
   "language": "python",
   "name": "python3"
  },
  "language_info": {
   "codemirror_mode": {
    "name": "ipython",
    "version": 3
   },
   "file_extension": ".py",
   "mimetype": "text/x-python",
   "name": "python",
   "nbconvert_exporter": "python",
   "pygments_lexer": "ipython3",
   "version": "3.7.3"
  },
  "varInspector": {
   "cols": {
    "lenName": 16,
    "lenType": 16,
    "lenVar": 40
   },
   "kernels_config": {
    "python": {
     "delete_cmd_postfix": "",
     "delete_cmd_prefix": "del ",
     "library": "var_list.py",
     "varRefreshCmd": "print(var_dic_list())"
    },
    "r": {
     "delete_cmd_postfix": ") ",
     "delete_cmd_prefix": "rm(",
     "library": "var_list.r",
     "varRefreshCmd": "cat(var_dic_list()) "
    }
   },
   "types_to_exclude": [
    "module",
    "function",
    "builtin_function_or_method",
    "instance",
    "_Feature"
   ],
   "window_display": false
  }
 },
 "nbformat": 4,
 "nbformat_minor": 4
}
