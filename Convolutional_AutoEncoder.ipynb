{
  "nbformat": 4,
  "nbformat_minor": 0,
  "metadata": {
    "hide_input": false,
    "kernelspec": {
      "name": "python3",
      "display_name": "Python 3"
    },
    "language_info": {
      "codemirror_mode": {
        "name": "ipython",
        "version": 3
      },
      "file_extension": ".py",
      "mimetype": "text/x-python",
      "name": "python",
      "nbconvert_exporter": "python",
      "pygments_lexer": "ipython3",
      "version": "3.7.5"
    },
    "varInspector": {
      "cols": {
        "lenName": 16,
        "lenType": 16,
        "lenVar": 40
      },
      "kernels_config": {
        "python": {
          "delete_cmd_postfix": "",
          "delete_cmd_prefix": "del ",
          "library": "var_list.py",
          "varRefreshCmd": "print(var_dic_list())"
        },
        "r": {
          "delete_cmd_postfix": ") ",
          "delete_cmd_prefix": "rm(",
          "library": "var_list.r",
          "varRefreshCmd": "cat(var_dic_list()) "
        }
      },
      "types_to_exclude": [
        "module",
        "function",
        "builtin_function_or_method",
        "instance",
        "_Feature"
      ],
      "window_display": false
    },
    "colab": {
      "name": "Convolutional AutoEncoder.ipynb",
      "provenance": [],
      "include_colab_link": true
    },
    "accelerator": "GPU"
  },
  "cells": [
    {
      "cell_type": "markdown",
      "metadata": {
        "id": "view-in-github",
        "colab_type": "text"
      },
      "source": [
        "<a href=\"https://colab.research.google.com/github/aldder/MachineLearning/blob/master/Convolutional_AutoEncoder.ipynb\" target=\"_parent\"><img src=\"https://colab.research.google.com/assets/colab-badge.svg\" alt=\"Open In Colab\"/></a>"
      ]
    },
    {
      "cell_type": "code",
      "metadata": {
        "ExecuteTime": {
          "end_time": "2020-01-22T13:39:29.407367Z",
          "start_time": "2020-01-22T13:39:29.401447Z"
        },
        "id": "A77fEqVXieWS",
        "colab_type": "code",
        "colab": {
          "base_uri": "https://localhost:8080/",
          "height": 34
        },
        "outputId": "e76d4f2f-feb4-47e2-b85c-8e59f75e7ef2"
      },
      "source": [
        "%matplotlib inline\n",
        "import matplotlib.pyplot as plt\n",
        "import tensorflow as tf\n",
        "from tensorflow.keras.layers import InputLayer, Conv2D, MaxPooling2D, Conv2DTranspose, Flatten, Dense, Reshape, Input\n",
        "from tensorflow.keras.models import Model, Sequential\n",
        "from tensorflow.keras.datasets import fashion_mnist\n",
        "tf.__version__"
      ],
      "execution_count": 8,
      "outputs": [
        {
          "output_type": "execute_result",
          "data": {
            "text/plain": [
              "'2.1.0'"
            ]
          },
          "metadata": {
            "tags": []
          },
          "execution_count": 8
        }
      ]
    },
    {
      "cell_type": "code",
      "metadata": {
        "ExecuteTime": {
          "end_time": "2020-01-22T12:06:08.544282Z",
          "start_time": "2020-01-22T12:06:08.128284Z"
        },
        "id": "5NdH-NUzieWW",
        "colab_type": "code",
        "colab": {
          "base_uri": "https://localhost:8080/",
          "height": 153
        },
        "outputId": "52303182-d196-494f-f2b9-e4a8387cf41a"
      },
      "source": [
        "(x_train, y_train), (x_test, y_test) = fashion_mnist.load_data()"
      ],
      "execution_count": 3,
      "outputs": [
        {
          "output_type": "stream",
          "text": [
            "Downloading data from https://storage.googleapis.com/tensorflow/tf-keras-datasets/train-labels-idx1-ubyte.gz\n",
            "32768/29515 [=================================] - 0s 0us/step\n",
            "Downloading data from https://storage.googleapis.com/tensorflow/tf-keras-datasets/train-images-idx3-ubyte.gz\n",
            "26427392/26421880 [==============================] - 0s 0us/step\n",
            "Downloading data from https://storage.googleapis.com/tensorflow/tf-keras-datasets/t10k-labels-idx1-ubyte.gz\n",
            "8192/5148 [===============================================] - 0s 0us/step\n",
            "Downloading data from https://storage.googleapis.com/tensorflow/tf-keras-datasets/t10k-images-idx3-ubyte.gz\n",
            "4423680/4422102 [==============================] - 0s 0us/step\n"
          ],
          "name": "stdout"
        }
      ]
    },
    {
      "cell_type": "code",
      "metadata": {
        "ExecuteTime": {
          "end_time": "2020-01-22T12:06:08.570292Z",
          "start_time": "2020-01-22T12:06:08.563282Z"
        },
        "id": "wyKNOsotieWa",
        "colab_type": "code",
        "colab": {
          "base_uri": "https://localhost:8080/",
          "height": 34
        },
        "outputId": "06318d6f-50b5-4f26-c4e1-59df34d44e68"
      },
      "source": [
        "x_train.shape, y_train.shape, x_test.shape, y_test.shape"
      ],
      "execution_count": 4,
      "outputs": [
        {
          "output_type": "execute_result",
          "data": {
            "text/plain": [
              "((60000, 28, 28), (60000,), (10000, 28, 28), (10000,))"
            ]
          },
          "metadata": {
            "tags": []
          },
          "execution_count": 4
        }
      ]
    },
    {
      "cell_type": "code",
      "metadata": {
        "ExecuteTime": {
          "end_time": "2020-01-22T12:06:09.450961Z",
          "start_time": "2020-01-22T12:06:09.333943Z"
        },
        "id": "6b07EQCyieWd",
        "colab_type": "code",
        "colab": {
          "base_uri": "https://localhost:8080/",
          "height": 265
        },
        "outputId": "58d4c55e-de10-4fd8-98db-e73dcb0b0978"
      },
      "source": [
        "plt.imshow(x_train[235]);"
      ],
      "execution_count": 5,
      "outputs": [
        {
          "output_type": "display_data",
          "data": {
            "image/png": "[encoded data removed]",
            "text/plain": [
              "<Figure size 432x288 with 1 Axes>"
            ]
          },
          "metadata": {
            "tags": []
          }
        }
      ]
    },
    {
      "cell_type": "code",
      "metadata": {
        "ExecuteTime": {
          "end_time": "2020-01-22T12:06:44.490313Z",
          "start_time": "2020-01-22T12:06:44.253313Z"
        },
        "id": "MUY7GOPXieWf",
        "colab_type": "code",
        "colab": {
          "base_uri": "https://localhost:8080/",
          "height": 51
        },
        "outputId": "1eb44416-e006-417d-806b-2c1f88f8abf8"
      },
      "source": [
        "x_train = x_train / 255.\n",
        "x_test = x_test / 255.\n",
        "print(x_train.shape)\n",
        "\n",
        "x_train = x_train.reshape((x_train.shape[0], x_train.shape[1], x_train.shape[2], 1))\n",
        "x_test = x_test.reshape((x_test.shape[0], x_test.shape[1], x_test.shape[2], 1))\n",
        "print(x_train.shape)"
      ],
      "execution_count": 6,
      "outputs": [
        {
          "output_type": "stream",
          "text": [
            "(60000, 28, 28)\n",
            "(60000, 28, 28, 1)\n"
          ],
          "name": "stdout"
        }
      ]
    },
    {
      "cell_type": "code",
      "metadata": {
        "ExecuteTime": {
          "end_time": "2020-01-22T13:54:25.727473Z",
          "start_time": "2020-01-22T13:54:25.445044Z"
        },
        "scrolled": false,
        "id": "DwF8VvBsieWh",
        "colab_type": "code",
        "colab": {
          "base_uri": "https://localhost:8080/",
          "height": 918
        },
        "outputId": "85dabb62-312e-42f3-a328-aa5893828573"
      },
      "source": [
        "tf.keras.backend.clear_session()\n",
        "\n",
        "encoder = Sequential(name='encoder')\n",
        "encoder.add(InputLayer(input_shape=(28,28,1)))\n",
        "encoder.add(Conv2D(64, (3,3), padding='same', activation='relu'))\n",
        "encoder.add(MaxPooling2D(padding='same'))\n",
        "encoder.add(Conv2D(128, (3,3), padding='same', activation='relu'))\n",
        "encoder.add(MaxPooling2D(padding='same'))\n",
        "encoder.add(Flatten())\n",
        "encoder.add(Dense(1024, activation='relu'))\n",
        "\n",
        "\n",
        "decoder = Sequential(name='decoder')\n",
        "decoder.add(InputLayer((1024,)))\n",
        "decoder.add(Dense(7*7*128, activation='relu'))\n",
        "decoder.add(Reshape((7,7,128)))\n",
        "decoder.add(Conv2DTranspose(64, (3, 3), strides=2, activation='relu', padding='same'))\n",
        "decoder.add(Conv2DTranspose(1, (3, 3), strides=2, activation=None, padding='same'))\n",
        "\n",
        "autoencoder_input = Input((28,28,1))\n",
        "autoencoder_encoder = encoder(autoencoder_input)\n",
        "autoencoder_decoder = decoder(autoencoder_encoder)\n",
        "autoencoder = Model(inputs=autoencoder_input, outputs=autoencoder_decoder, name='autoencoder')\n",
        "autoencoder.compile(loss='mse', optimizer='adam')\n",
        "\n",
        "print(encoder.summary())\n",
        "print(decoder.summary())\n",
        "print(autoencoder.summary())"
      ],
      "execution_count": 10,
      "outputs": [
        {
          "output_type": "stream",
          "text": [
            "Model: \"encoder\"\n",
            "_________________________________________________________________\n",
            "Layer (type)                 Output Shape              Param #   \n",
            "=================================================================\n",
            "conv2d (Conv2D)              (None, 28, 28, 64)        640       \n",
            "_________________________________________________________________\n",
            "max_pooling2d (MaxPooling2D) (None, 14, 14, 64)        0         \n",
            "_________________________________________________________________\n",
            "conv2d_1 (Conv2D)            (None, 14, 14, 128)       73856     \n",
            "_________________________________________________________________\n",
            "max_pooling2d_1 (MaxPooling2 (None, 7, 7, 128)         0         \n",
            "_________________________________________________________________\n",
            "flatten (Flatten)            (None, 6272)              0         \n",
            "_________________________________________________________________\n",
            "dense (Dense)                (None, 1024)              6423552   \n",
            "=================================================================\n",
            "Total params: 6,498,048\n",
            "Trainable params: 6,498,048\n",
            "Non-trainable params: 0\n",
            "_________________________________________________________________\n",
            "None\n",
            "Model: \"decoder\"\n",
            "_________________________________________________________________\n",
            "Layer (type)                 Output Shape              Param #   \n",
            "=================================================================\n",
            "dense_1 (Dense)              (None, 6272)              6428800   \n",
            "_________________________________________________________________\n",
            "reshape (Reshape)            (None, 7, 7, 128)         0         \n",
            "_________________________________________________________________\n",
            "conv2d_transpose (Conv2DTran (None, 14, 14, 64)        73792     \n",
            "_________________________________________________________________\n",
            "conv2d_transpose_1 (Conv2DTr (None, 28, 28, 1)         577       \n",
            "=================================================================\n",
            "Total params: 6,503,169\n",
            "Trainable params: 6,503,169\n",
            "Non-trainable params: 0\n",
            "_________________________________________________________________\n",
            "None\n",
            "Model: \"autoencoder\"\n",
            "_________________________________________________________________\n",
            "Layer (type)                 Output Shape              Param #   \n",
            "=================================================================\n",
            "input_3 (InputLayer)         [(None, 28, 28, 1)]       0         \n",
            "_________________________________________________________________\n",
            "encoder (Sequential)         (None, 1024)              6498048   \n",
            "_________________________________________________________________\n",
            "decoder (Sequential)         (None, 28, 28, 1)         6503169   \n",
            "=================================================================\n",
            "Total params: 13,001,217\n",
            "Trainable params: 13,001,217\n",
            "Non-trainable params: 0\n",
            "_________________________________________________________________\n",
            "None\n"
          ],
          "name": "stdout"
        }
      ]
    },
    {
      "cell_type": "code",
      "metadata": {
        "ExecuteTime": {
          "end_time": "2020-01-22T13:55:31.825665Z",
          "start_time": "2020-01-22T13:54:36.267003Z"
        },
        "id": "fZa4v-nmieWj",
        "colab_type": "code",
        "colab": {
          "base_uri": "https://localhost:8080/",
          "height": 391
        },
        "outputId": "28f09145-cdde-4786-a2f2-7499cef356e0"
      },
      "source": [
        "autoencoder.fit(x_train, x_train, epochs=10, verbose=1)"
      ],
      "execution_count": 11,
      "outputs": [
        {
          "output_type": "stream",
          "text": [
            "Train on 60000 samples\n",
            "Epoch 1/10\n",
            "60000/60000 [==============================] - 19s 316us/sample - loss: 0.0120\n",
            "Epoch 2/10\n",
            "60000/60000 [==============================] - 12s 202us/sample - loss: 0.0061\n",
            "Epoch 3/10\n",
            "60000/60000 [==============================] - 12s 201us/sample - loss: 0.0049\n",
            "Epoch 4/10\n",
            "60000/60000 [==============================] - 12s 205us/sample - loss: 0.0042\n",
            "Epoch 5/10\n",
            "60000/60000 [==============================] - 12s 204us/sample - loss: 0.0037\n",
            "Epoch 6/10\n",
            "60000/60000 [==============================] - 12s 204us/sample - loss: 0.0034\n",
            "Epoch 7/10\n",
            "60000/60000 [==============================] - 12s 202us/sample - loss: 0.0031\n",
            "Epoch 8/10\n",
            "60000/60000 [==============================] - 12s 203us/sample - loss: 0.0029\n",
            "Epoch 9/10\n",
            "60000/60000 [==============================] - 12s 203us/sample - loss: 0.0027\n",
            "Epoch 10/10\n",
            "60000/60000 [==============================] - 12s 203us/sample - loss: 0.0026\n"
          ],
          "name": "stdout"
        },
        {
          "output_type": "execute_result",
          "data": {
            "text/plain": [
              "<tensorflow.python.keras.callbacks.History at 0x7fad6c6c57b8>"
            ]
          },
          "metadata": {
            "tags": []
          },
          "execution_count": 11
        }
      ]
    },
    {
      "cell_type": "code",
      "metadata": {
        "id": "yAxElynWkKN8",
        "colab_type": "code",
        "colab": {
          "base_uri": "https://localhost:8080/",
          "height": 51
        },
        "outputId": "e2f7cbd8-e199-48c9-95e1-051b665a38df"
      },
      "source": [
        "autoencoder.evaluate(x_test, x_test, verbose=1)"
      ],
      "execution_count": 12,
      "outputs": [
        {
          "output_type": "stream",
          "text": [
            "10000/10000 [==============================] - 1s 113us/sample - loss: 0.0030\n"
          ],
          "name": "stdout"
        },
        {
          "output_type": "execute_result",
          "data": {
            "text/plain": [
              "0.0029767795797437427"
            ]
          },
          "metadata": {
            "tags": []
          },
          "execution_count": 12
        }
      ]
    },
    {
      "cell_type": "code",
      "metadata": {
        "ExecuteTime": {
          "end_time": "2020-01-22T13:51:53.108195Z",
          "start_time": "2020-01-22T13:51:51.973197Z"
        },
        "id": "O-RGPH1pieWl",
        "colab_type": "code",
        "colab": {
          "base_uri": "https://localhost:8080/",
          "height": 201
        },
        "outputId": "3e5bd913-b964-4a96-c011-6fcc4d8f369b"
      },
      "source": [
        "plt.subplot(1,2,1)\n",
        "plt.imshow(x_test[235].reshape(28,28) * 255.)\n",
        "plt.subplot(1,2,2)\n",
        "plt.imshow(autoencoder.predict(x_test)[235].reshape(28,28) * 255.);"
      ],
      "execution_count": 14,
      "outputs": [
        {
          "output_type": "display_data",
          "data": {
            "image/png": "[encoded data removed]",
            "text/plain": [
              "<Figure size 432x288 with 2 Axes>"
            ]
          },
          "metadata": {
            "tags": []
          }
        }
      ]
    },
    {
      "cell_type": "code",
      "metadata": {
        "id": "_MSc1YPVieWn",
        "colab_type": "code",
        "colab": {}
      },
      "source": [
        ""
      ],
      "execution_count": 0,
      "outputs": []
    }
  ]
}