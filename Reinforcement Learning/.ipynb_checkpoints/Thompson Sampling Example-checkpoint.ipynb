{
 "cells": [
  {
   "cell_type": "code",
   "execution_count": 134,
   "metadata": {
    "ExecuteTime": {
     "end_time": "2019-06-05T22:24:37.511307Z",
     "start_time": "2019-06-05T22:24:36.477648Z"
    }
   },
   "outputs": [],
   "source": [
    "import numpy as np\n",
    "import pandas as pd\n",
    "import matplotlib.pyplot as plt\n",
    "import seaborn as sns"
   ]
  },
  {
   "cell_type": "markdown",
   "metadata": {},
   "source": [
    "### Define dimensionality"
   ]
  },
  {
   "cell_type": "code",
   "execution_count": 128,
   "metadata": {
    "ExecuteTime": {
     "end_time": "2019-06-05T22:20:15.417980Z",
     "start_time": "2019-06-05T22:20:15.413909Z"
    }
   },
   "outputs": [],
   "source": [
    "m, n = 10000, 10"
   ]
  },
  {
   "cell_type": "markdown",
   "metadata": {
    "ExecuteTime": {
     "end_time": "2019-06-05T22:21:58.815605Z",
     "start_time": "2019-06-05T22:21:58.811573Z"
    }
   },
   "source": [
    "### Build random dataset with some extra rewards"
   ]
  },
  {
   "cell_type": "code",
   "execution_count": 181,
   "metadata": {
    "ExecuteTime": {
     "end_time": "2019-06-05T22:33:54.773530Z",
     "start_time": "2019-06-05T22:33:54.734486Z"
    }
   },
   "outputs": [
    {
     "data": {
      "text/html": [
       "<div>\n",
       "<style scoped>\n",
       "    .dataframe tbody tr th:only-of-type {\n",
       "        vertical-align: middle;\n",
       "    }\n",
       "\n",
       "    .dataframe tbody tr th {\n",
       "        vertical-align: top;\n",
       "    }\n",
       "\n",
       "    .dataframe thead th {\n",
       "        text-align: right;\n",
       "    }\n",
       "</style>\n",
       "<table border=\"1\" class=\"dataframe\">\n",
       "  <thead>\n",
       "    <tr style=\"text-align: right;\">\n",
       "      <th></th>\n",
       "      <th>1</th>\n",
       "      <th>2</th>\n",
       "      <th>3</th>\n",
       "      <th>4</th>\n",
       "      <th>5</th>\n",
       "      <th>6</th>\n",
       "      <th>7</th>\n",
       "      <th>8</th>\n",
       "      <th>9</th>\n",
       "      <th>10</th>\n",
       "    </tr>\n",
       "  </thead>\n",
       "  <tbody>\n",
       "    <tr>\n",
       "      <th>0</th>\n",
       "      <td>-1497.661463</td>\n",
       "      <td>-7.646652</td>\n",
       "      <td>-301.043636</td>\n",
       "      <td>-65.616668</td>\n",
       "      <td>-2427.338262</td>\n",
       "      <td>-2294.549856</td>\n",
       "      <td>-2503.505222</td>\n",
       "      <td>-69.333835</td>\n",
       "      <td>-2061.281659</td>\n",
       "      <td>-1027.221566</td>\n",
       "    </tr>\n",
       "    <tr>\n",
       "      <th>1</th>\n",
       "      <td>-1597.002371</td>\n",
       "      <td>-2238.102369</td>\n",
       "      <td>-883.259324</td>\n",
       "      <td>-1108.802704</td>\n",
       "      <td>375.464455</td>\n",
       "      <td>-1452.043626</td>\n",
       "      <td>-3180.406410</td>\n",
       "      <td>-396.247000</td>\n",
       "      <td>-1347.905663</td>\n",
       "      <td>-882.903268</td>\n",
       "    </tr>\n",
       "    <tr>\n",
       "      <th>2</th>\n",
       "      <td>-1151.488078</td>\n",
       "      <td>-1516.384771</td>\n",
       "      <td>-477.617885</td>\n",
       "      <td>-2599.137141</td>\n",
       "      <td>-582.736247</td>\n",
       "      <td>-1229.444189</td>\n",
       "      <td>-881.671232</td>\n",
       "      <td>-1436.207888</td>\n",
       "      <td>-1058.119385</td>\n",
       "      <td>217.893290</td>\n",
       "    </tr>\n",
       "    <tr>\n",
       "      <th>3</th>\n",
       "      <td>-920.694701</td>\n",
       "      <td>-1905.527791</td>\n",
       "      <td>-438.862274</td>\n",
       "      <td>-3053.271089</td>\n",
       "      <td>1447.913116</td>\n",
       "      <td>-320.793648</td>\n",
       "      <td>-1018.190873</td>\n",
       "      <td>-1270.268598</td>\n",
       "      <td>-2282.065761</td>\n",
       "      <td>-395.508474</td>\n",
       "    </tr>\n",
       "    <tr>\n",
       "      <th>4</th>\n",
       "      <td>-838.517465</td>\n",
       "      <td>-1315.226895</td>\n",
       "      <td>-1099.124398</td>\n",
       "      <td>-1355.663314</td>\n",
       "      <td>-245.033955</td>\n",
       "      <td>-411.164776</td>\n",
       "      <td>380.202812</td>\n",
       "      <td>13.940032</td>\n",
       "      <td>-2309.723994</td>\n",
       "      <td>-3300.203349</td>\n",
       "    </tr>\n",
       "  </tbody>\n",
       "</table>\n",
       "</div>"
      ],
      "text/plain": [
       "             1            2            3            4            5  \\\n",
       "0 -1497.661463    -7.646652  -301.043636   -65.616668 -2427.338262   \n",
       "1 -1597.002371 -2238.102369  -883.259324 -1108.802704   375.464455   \n",
       "2 -1151.488078 -1516.384771  -477.617885 -2599.137141  -582.736247   \n",
       "3  -920.694701 -1905.527791  -438.862274 -3053.271089  1447.913116   \n",
       "4  -838.517465 -1315.226895 -1099.124398 -1355.663314  -245.033955   \n",
       "\n",
       "             6            7            8            9           10  \n",
       "0 -2294.549856 -2503.505222   -69.333835 -2061.281659 -1027.221566  \n",
       "1 -1452.043626 -3180.406410  -396.247000 -1347.905663  -882.903268  \n",
       "2 -1229.444189  -881.671232 -1436.207888 -1058.119385   217.893290  \n",
       "3  -320.793648 -1018.190873 -1270.268598 -2282.065761  -395.508474  \n",
       "4  -411.164776   380.202812    13.940032 -2309.723994 -3300.203349  "
      ]
     },
     "execution_count": 181,
     "metadata": {},
     "output_type": "execute_result"
    }
   ],
   "source": [
    "columns = ['1','2','3','4','5','6','7','8','9','10']\n",
    "dataset = pd.DataFrame(np.random.normal(-1000, 1000, size=(m, n)), columns=columns)\n",
    "dataset['5'] += 200\n",
    "dataset.head()"
   ]
  },
  {
   "cell_type": "markdown",
   "metadata": {},
   "source": [
    "### Thompson Sampling"
   ]
  },
  {
   "cell_type": "code",
   "execution_count": 184,
   "metadata": {
    "ExecuteTime": {
     "end_time": "2019-06-05T22:33:59.014675Z",
     "start_time": "2019-06-05T22:33:58.437340Z"
    }
   },
   "outputs": [],
   "source": [
    "selected = np.zeros(m)\n",
    "\n",
    "positive = np.zeros(n, dtype=np.float16)\n",
    "negative = np.zeros(n, dtype=np.float16)\n",
    "\n",
    "total_reward = 0\n",
    "\n",
    "for i in range(m):\n",
    "\n",
    "    theta = np.random.beta(1+positive,1+negative)\n",
    "    max_index = np.argmax(theta)\n",
    "    selected[i] = max_index\n",
    "    reward = dataset.values[i,max_index]\n",
    "    if reward > 0: \n",
    "        positive[max_index] += 1\n",
    "    else:\n",
    "        negative[max_index] += 1\n",
    "    total_reward += reward\n"
   ]
  },
  {
   "cell_type": "code",
   "execution_count": 185,
   "metadata": {
    "ExecuteTime": {
     "end_time": "2019-06-05T22:33:59.335764Z",
     "start_time": "2019-06-05T22:33:59.115809Z"
    }
   },
   "outputs": [
    {
     "data": {
      "image/png": "[encoded data removed]",
      "text/plain": [
       "<Figure size 432x288 with 1 Axes>"
      ]
     },
     "metadata": {
      "needs_background": "light"
     },
     "output_type": "display_data"
    }
   ],
   "source": [
    "plt.figure()\n",
    "plt.hist(selected)\n",
    "plt.xticks(range(n), columns)\n",
    "plt.show()"
   ]
  },
  {
   "cell_type": "code",
   "execution_count": null,
   "metadata": {},
   "outputs": [],
   "source": []
  }
 ],
 "metadata": {
  "hide_input": false,
  "kernelspec": {
   "display_name": "Python 3",
   "language": "python",
   "name": "python3"
  },
  "language_info": {
   "codemirror_mode": {
    "name": "ipython",
    "version": 3
   },
   "file_extension": ".py",
   "mimetype": "text/x-python",
   "name": "python",
   "nbconvert_exporter": "python",
   "pygments_lexer": "ipython3",
   "version": "3.7.3"
  },
  "varInspector": {
   "cols": {
    "lenName": 16,
    "lenType": 16,
    "lenVar": 40
   },
   "kernels_config": {
    "python": {
     "delete_cmd_postfix": "",
     "delete_cmd_prefix": "del ",
     "library": "var_list.py",
     "varRefreshCmd": "print(var_dic_list())"
    },
    "r": {
     "delete_cmd_postfix": ") ",
     "delete_cmd_prefix": "rm(",
     "library": "var_list.r",
     "varRefreshCmd": "cat(var_dic_list()) "
    }
   },
   "types_to_exclude": [
    "module",
    "function",
    "builtin_function_or_method",
    "instance",
    "_Feature"
   ],
   "window_display": false
  }
 },
 "nbformat": 4,
 "nbformat_minor": 2
}
