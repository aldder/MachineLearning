{
 "cells": [
  {
   "cell_type": "markdown",
   "metadata": {},
   "source": [
    "# import libraries"
   ]
  },
  {
   "cell_type": "code",
   "execution_count": 4,
   "metadata": {
    "ExecuteTime": {
     "end_time": "2019-04-06T13:14:46.566883Z",
     "start_time": "2019-04-06T13:14:45.012652Z"
    },
    "hide_input": false
   },
   "outputs": [],
   "source": [
    "import numpy as np\n",
    "import pandas as pd\n",
    "\n",
    "from tqdm import tqdm_notebook\n",
    "from entsoe import EntsoePandasClient\n",
    "\n",
    "pd.options.display.max_rows = 10\n",
    "pd.options.display.max_columns = None"
   ]
  },
  {
   "cell_type": "markdown",
   "metadata": {},
   "source": [
    "# data collections"
   ]
  },
  {
   "cell_type": "markdown",
   "metadata": {},
   "source": [
    "Now we collect all data we need from __[ENTSO-E](https://transparency.entsoe.eu/)__ platform.\n",
    "\n",
    "**Entso-e** is a european TSO that provide through rest api several informations about energy market in Europe.\n",
    "\n",
    "_You need to request an api key to access the data._\n",
    "\n",
    "You also can install __[entose-py](https://github.com/EnergieID/entsoe-py)__, a library that does all the magic for you:\n",
    "\n",
    "> pip install entsoe-py"
   ]
  },
  {
   "cell_type": "code",
   "execution_count": 5,
   "metadata": {
    "ExecuteTime": {
     "end_time": "2019-04-06T13:14:46.616325Z",
     "start_time": "2019-04-06T13:14:46.596141Z"
    }
   },
   "outputs": [
    {
     "name": "stdout",
     "output_type": "stream",
     "text": [
      "2015-01-01 00:00:00+01:00 2018-12-31 23:00:00+01:00\n"
     ]
    }
   ],
   "source": [
    "API_KEY = '*** your api key here ***'\n",
    "\n",
    "START_DATE = pd.Timestamp('2015-01-01 00:00', tz='Europe/Paris')\n",
    "END_DATE = pd.Timestamp('2018-12-31 23:00', tz='Europe/Paris')\n",
    "\n",
    "print(START_DATE, END_DATE)\n",
    "\n",
    "entsoe_client = EntsoePandasClient(api_key=API_KEY, retry_count=3, retry_delay=5)"
   ]
  },
  {
   "cell_type": "markdown",
   "metadata": {},
   "source": [
    "France Energy Price, the dependant variable to predict"
   ]
  },
  {
   "cell_type": "code",
   "execution_count": 4,
   "metadata": {
    "ExecuteTime": {
     "end_time": "2019-04-06T13:15:26.481865Z",
     "start_time": "2019-04-06T13:14:46.642655Z"
    }
   },
   "outputs": [
    {
     "name": "stdout",
     "output_type": "stream",
     "text": [
      "Connection Error, retrying in 5 seconds\n"
     ]
    }
   ],
   "source": [
    "prices = entsoe_client.query_day_ahead_prices(country_code='FR', start=START_DATE, end=END_DATE)\n",
    "prices.name = 'Y'"
   ]
  },
  {
   "cell_type": "markdown",
   "metadata": {},
   "source": [
    "Total Load Forecast, the day ahead reference value for the energy demand"
   ]
  },
  {
   "cell_type": "code",
   "execution_count": 5,
   "metadata": {
    "ExecuteTime": {
     "end_time": "2019-04-06T13:16:12.424671Z",
     "start_time": "2019-04-06T13:15:26.537703Z"
    }
   },
   "outputs": [],
   "source": [
    "total_load_forecast = entsoe_client.query_load_forecast(country_code='FR', start=START_DATE, end=END_DATE)\n",
    "total_load_forecast.name = 'LOAD_FORECAST'"
   ]
  },
  {
   "cell_type": "markdown",
   "metadata": {},
   "source": [
    "Generation Forecast, the forecast value for the energy production quantity for the current day"
   ]
  },
  {
   "cell_type": "code",
   "execution_count": 6,
   "metadata": {
    "ExecuteTime": {
     "end_time": "2019-04-06T13:16:49.882136Z",
     "start_time": "2019-04-06T13:16:12.463954Z"
    }
   },
   "outputs": [],
   "source": [
    "generation_forecast = entsoe_client.query_generation_forecast(country_code='FR', start=START_DATE, end=END_DATE)\n",
    "generation_forecast.name = 'GENERATION_FORECAST'"
   ]
  },
  {
   "cell_type": "markdown",
   "metadata": {},
   "source": [
    "Wind and Solar Forecast, the forecast values for the renewable energy production for the current day"
   ]
  },
  {
   "cell_type": "code",
   "execution_count": 7,
   "metadata": {
    "ExecuteTime": {
     "end_time": "2019-04-06T13:17:49.665580Z",
     "start_time": "2019-04-06T13:16:49.938117Z"
    }
   },
   "outputs": [],
   "source": [
    "wind_solar_forecast = entsoe_client.query_wind_and_solar_forecast(country_code='FR', \n",
    "                                                                  start=START_DATE, end=END_DATE)\n",
    "wind_solar_forecast.columns = [c.replace(' ','_').upper() for c in wind_solar_forecast.columns]"
   ]
  },
  {
   "cell_type": "markdown",
   "metadata": {},
   "source": [
    "CrossBorder Physical Flow, the value of the energy transmission between countries for the previous days"
   ]
  },
  {
   "cell_type": "code",
   "execution_count": 8,
   "metadata": {
    "ExecuteTime": {
     "end_time": "2019-04-06T13:21:37.710387Z",
     "start_time": "2019-04-06T13:17:49.744132Z"
    },
    "scrolled": true
   },
   "outputs": [
    {
     "data": {
      "application/vnd.jupyter.widget-view+json": {
       "model_id": "4f73cd540e0f4a9c8d4e38d5382dece7",
       "version_major": 2,
       "version_minor": 0
      },
      "text/plain": [
       "HBox(children=(IntProgress(value=0, max=5), HTML(value='')))"
      ]
     },
     "metadata": {},
     "output_type": "display_data"
    },
    {
     "name": "stdout",
     "output_type": "stream",
     "text": [
      "\n"
     ]
    }
   ],
   "source": [
    "END_DATE_FIX = END_DATE + pd.to_timedelta(1,unit='h')\n",
    "\n",
    "from_to = [('FR','BE'),('FR','CH'),('FR','ES'),('FR','DE'),('FR','IT')]\n",
    "\n",
    "crossborder_flows = {}\n",
    "\n",
    "for frm, to in tqdm_notebook(from_to):\n",
    "    crossborder_flows[f'crossborder_flow_{frm}-{to}'] = entsoe_client.query_crossborder_flows(\n",
    "        country_code_from=frm, country_code_to=to, start=START_DATE, end=END_DATE_FIX)\n",
    "    crossborder_flows[f'crossborder_flow_{frm}-{to}'].name = f'crossborder_flow_{frm}-{to}'\n",
    "    crossborder_flows[f'crossborder_flow_{to}-{frm}'] = entsoe_client.query_crossborder_flows(\n",
    "        country_code_from=to, country_code_to=frm, start=START_DATE, end=END_DATE_FIX)\n",
    "    crossborder_flows[f'crossborder_flow_{to}-{frm}'].name = f'crossborder_flow_{to}-{frm}'"
   ]
  },
  {
   "cell_type": "markdown",
   "metadata": {},
   "source": [
    "We have to do some considerations now:\n",
    "\n",
    "> we need to understand when the data are available and how to model to make them usable.\n",
    "    \n",
    "We have to _map the flows with the corrispondent day_, so we need to make a distinction between days in the timeline.\n",
    "\n",
    "What we have is:\n",
    "- data that refers to the day ahead (t+1):\n",
    "    - _prices_\n",
    "    - _load forecast_\n",
    "- data that refers to the current day (t):\n",
    "     - _generation forecast_ \n",
    "     - _wind&solar forecast_\n",
    "- data that refers to previous days (t-1)\n",
    "    - _crossborder_flows_\n",
    "    \n",
    "__example__: today is 2018-12-30. I have:\n",
    " - prices until today\n",
    " - load forecast until tomorrow\n",
    " - generation + wind&solar forecast of today\n",
    " - crossborder flows until yesterday"
   ]
  },
  {
   "cell_type": "markdown",
   "metadata": {},
   "source": [
    "# merge all and create dataset"
   ]
  },
  {
   "cell_type": "code",
   "execution_count": 9,
   "metadata": {
    "ExecuteTime": {
     "end_time": "2019-04-06T13:21:49.463281Z",
     "start_time": "2019-04-06T13:21:37.833131Z"
    }
   },
   "outputs": [],
   "source": [
    "dataset = pd.concat([prices, \n",
    "                     total_load_forecast,\n",
    "                     generation_forecast.shift(1, 'd'),\n",
    "                     wind_solar_forecast.shift(1, 'd'),\n",
    "                     crossborder_flows['crossborder_flow_FR-BE'].shift(2, 'd'),\n",
    "                     crossborder_flows['crossborder_flow_BE-FR'].shift(2, 'd'),\n",
    "                     crossborder_flows['crossborder_flow_FR-CH'].shift(2, 'd'),\n",
    "                     crossborder_flows['crossborder_flow_CH-FR'].shift(2, 'd'),\n",
    "                     crossborder_flows['crossborder_flow_FR-ES'].shift(2, 'd'),\n",
    "                     crossborder_flows['crossborder_flow_ES-FR'].shift(2, 'd'),\n",
    "                     crossborder_flows['crossborder_flow_FR-DE'].shift(2, 'd'),\n",
    "                     crossborder_flows['crossborder_flow_DE-FR'].shift(2, 'd'),\n",
    "                     crossborder_flows['crossborder_flow_FR-IT'].shift(2, 'd'),\n",
    "                     crossborder_flows['crossborder_flow_IT-FR'].shift(2, 'd'),\n",
    "                    ], 1)\n",
    "dataset = dataset.tz_convert('Europe/Paris')\n",
    "dataset.to_pickle('data/dataset.pkl')"
   ]
  },
  {
   "cell_type": "code",
   "execution_count": null,
   "metadata": {},
   "outputs": [],
   "source": []
  }
 ],
 "metadata": {
  "hide_input": false,
  "kernelspec": {
   "display_name": "Python 3",
   "language": "python",
   "name": "python3"
  },
  "language_info": {
   "codemirror_mode": {
    "name": "ipython",
    "version": 3
   },
   "file_extension": ".py",
   "mimetype": "text/x-python",
   "name": "python",
   "nbconvert_exporter": "python",
   "pygments_lexer": "ipython3",
   "version": "3.7.1"
  },
  "varInspector": {
   "cols": {
    "lenName": 16,
    "lenType": 16,
    "lenVar": 40
   },
   "kernels_config": {
    "python": {
     "delete_cmd_postfix": "",
     "delete_cmd_prefix": "del ",
     "library": "var_list.py",
     "varRefreshCmd": "print(var_dic_list())"
    },
    "r": {
     "delete_cmd_postfix": ") ",
     "delete_cmd_prefix": "rm(",
     "library": "var_list.r",
     "varRefreshCmd": "cat(var_dic_list()) "
    }
   },
   "types_to_exclude": [
    "module",
    "function",
    "builtin_function_or_method",
    "instance",
    "_Feature"
   ],
   "window_display": false
  }
 },
 "nbformat": 4,
 "nbformat_minor": 2
}
