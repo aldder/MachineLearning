{
 "cells": [
  {
   "cell_type": "markdown",
   "metadata": {},
   "source": [
    "# Predict model Day Ahead France Energy Price"
   ]
  },
  {
   "cell_type": "code",
   "execution_count": 9,
   "metadata": {
    "ExecuteTime": {
     "end_time": "2019-04-27T14:42:54.715429Z",
     "start_time": "2019-04-27T14:42:54.705754Z"
    }
   },
   "outputs": [],
   "source": [
    "import numpy as np\n",
    "import pandas as pd\n",
    "\n",
    "import matplotlib.pyplot as plt\n",
    "import seaborn as sns\n",
    "\n",
    "from tqdm import tqdm_notebook\n",
    "\n",
    "import warnings\n",
    "warnings.filterwarnings(\"ignore\")\n",
    "\n",
    "%matplotlib inline\n",
    "\n",
    "pd.options.display.max_rows = 10\n",
    "pd.options.display.max_columns = None"
   ]
  },
  {
   "cell_type": "code",
   "execution_count": 2,
   "metadata": {
    "ExecuteTime": {
     "end_time": "2019-04-27T14:41:54.945223Z",
     "start_time": "2019-04-27T14:41:54.601962Z"
    }
   },
   "outputs": [],
   "source": [
    "dataset = pd.read_pickle('data/dataset_eda.pkl.zip', compression='zip')"
   ]
  },
  {
   "cell_type": "markdown",
   "metadata": {},
   "source": [
    "Change dataset granularity to daily"
   ]
  },
  {
   "cell_type": "code",
   "execution_count": 3,
   "metadata": {
    "ExecuteTime": {
     "end_time": "2019-04-27T14:41:56.282070Z",
     "start_time": "2019-04-27T14:41:56.012516Z"
    }
   },
   "outputs": [
    {
     "data": {
      "text/plain": [
       "(1441, 132)"
      ]
     },
     "execution_count": 3,
     "metadata": {},
     "output_type": "execute_result"
    }
   ],
   "source": [
    "dataset = dataset.resample('d').mean().dropna()\n",
    "dataset.shape"
   ]
  },
  {
   "cell_type": "code",
   "execution_count": 5,
   "metadata": {
    "ExecuteTime": {
     "end_time": "2019-04-27T14:42:02.103273Z",
     "start_time": "2019-04-27T14:42:02.093753Z"
    }
   },
   "outputs": [],
   "source": [
    "X = dataset.drop(['Y'],1).astype(np.float64)\n",
    "y = dataset['Y']"
   ]
  },
  {
   "cell_type": "markdown",
   "metadata": {},
   "source": [
    "### Machine Learning Models \n",
    " - Ridge, Lasso, ElasticNet\n",
    " - KNeighbors\n",
    " - RandomForest, ExtraTrees, AdaBoost\n",
    " - SVR\n",
    " - Xgboost, LightGBM\n",
    " - MLP"
   ]
  },
  {
   "cell_type": "code",
   "execution_count": 7,
   "metadata": {
    "ExecuteTime": {
     "end_time": "2019-04-27T14:42:30.263723Z",
     "start_time": "2019-04-27T14:42:30.254585Z"
    }
   },
   "outputs": [],
   "source": [
    "from sklearn.linear_model import LinearRegression, Ridge, Lasso, ElasticNet\n",
    "from sklearn.neural_network import MLPRegressor\n",
    "from sklearn.ensemble import AdaBoostRegressor, RandomForestRegressor, ExtraTreesRegressor, GradientBoostingRegressor\n",
    "from sklearn.neighbors import KNeighborsRegressor\n",
    "from sklearn.svm import SVR\n",
    "from xgboost import XGBRegressor\n",
    "from lightgbm import LGBMRegressor\n",
    "\n",
    "from sklearn.pipeline import Pipeline\n",
    "from sklearn.model_selection import TimeSeriesSplit\n",
    "from sklearn.metrics import mean_absolute_error, mean_squared_error, r2_score\n",
    "\n",
    "def smape(y_true, y_pred):\n",
    "    out = 0\n",
    "    for i in range(y_true.shape[0]):\n",
    "        a = y_true[i]\n",
    "        b = y_pred[i]\n",
    "        c = abs(a)+abs(b)\n",
    "        if c == 0:\n",
    "            continue\n",
    "        out += abs(a - b) / c\n",
    "    out *= (100.0 / y_true.shape[0])\n",
    "    return out"
   ]
  },
  {
   "cell_type": "code",
   "execution_count": 8,
   "metadata": {
    "ExecuteTime": {
     "end_time": "2019-04-27T14:42:33.638314Z",
     "start_time": "2019-04-27T14:42:33.618856Z"
    }
   },
   "outputs": [],
   "source": [
    "def eval_model(model, cv, X, y):\n",
    "    predictions = pd.DataFrame(index = X.index, columns=['true','train_pred','test_pred'])\n",
    "    predictions['true'] = y\n",
    "    X, y = X.values, y.values\n",
    "    for train_idx, test_idx in cv.split(X, y):\n",
    "        X_train, y_train = X[train_idx], y[train_idx]\n",
    "        X_test, y_test = X[test_idx], y[test_idx]\n",
    "\n",
    "        X_scaler = MinMaxScaler(feature_range=(-1,1))\n",
    "        X_train = X_scaler.fit_transform(X_train)\n",
    "        X_test = X_scaler.transform(X_test)\n",
    "\n",
    "        y_scaler = MinMaxScaler(feature_range=(-1,1))\n",
    "        y_train = y_scaler.fit_transform(y_train.reshape(-1,1))\n",
    "        y_test = y_scaler.transform(y_test.reshape(-1,1))\n",
    "        \n",
    "        model.fit(X_train, y_train.ravel())\n",
    "        \n",
    "        predictions.iloc[train_idx, 1] = y_scaler.inverse_transform(model.predict(X_train).reshape(-1,1))\n",
    "        predictions.iloc[test_idx, 2] = y_scaler.inverse_transform(model.predict(X_test).reshape(-1,1))\n",
    "\n",
    "    return predictions.astype(np.float64)"
   ]
  },
  {
   "cell_type": "code",
   "execution_count": 10,
   "metadata": {
    "ExecuteTime": {
     "end_time": "2019-04-27T14:42:56.859109Z",
     "start_time": "2019-04-27T14:42:56.841922Z"
    }
   },
   "outputs": [],
   "source": [
    "def eval_predictions(predictions, view=True):\n",
    "    df_train = predictions[['true','train_pred']].copy().dropna()\n",
    "    df_test = predictions[['true','test_pred']].copy().dropna()\n",
    "    print(f\"R2 Score Train:  {r2_score(df_train['true'], df_train['train_pred']):.3f}\")\n",
    "    print(f\"R2 Score Test:   {r2_score(df_test['true'], df_test['test_pred']):.3f}\")\n",
    "    print(f\"RMSE Train:      {np.sqrt(mean_squared_error(df_train['true'], df_train['train_pred'])):.3f}\")\n",
    "    print(f\"RMSE Test:       {np.sqrt(mean_squared_error(df_test['true'], df_test['test_pred'])):.3f}\")\n",
    "    print(f\"MAE Train:       {mean_absolute_error(df_train['true'], df_train['train_pred']):.3f}\")\n",
    "    print(f\"MAE Test:        {mean_absolute_error(df_test['true'], df_test['test_pred']):.3f}\")\n",
    "    print(f\"sMAPE Train:     {smape(df_train['true'], df_train['train_pred']):.3f}\")\n",
    "    print(f\"sMAPE Test:      {smape(df_test['true'], df_test['test_pred']):.3f}\")\n",
    "    \n",
    "    if view:\n",
    "        fig, ax = plt.subplots(1,2,figsize=(10,3))\n",
    "        ax[0].hist(df_train['true']-df_train['train_pred'], bins=50, alpha=.4, edgecolor='black',label='train')\n",
    "        ax[0].hist(df_test['true']-df_test['test_pred'], bins=50, alpha=.4, edgecolor='black',label='test')\n",
    "        ax[0].set_title('Residuals distribution')\n",
    "        ax[0].set_xlabel('Residuals')\n",
    "        ax[0].set_ylabel('Distribution')\n",
    "        ax[0].legend()\n",
    "          \n",
    "        sns.regplot(df_train['true'], df_train['train_pred'], label='train reg', \n",
    "                    scatter_kws={'alpha':.8, 'edgecolor':'white'}, \n",
    "                    line_kws={'alpha':.5, 'color':'red'}, ax=ax[1])\n",
    "        sns.regplot(df_test['true'], df_test['test_pred'], label='test reg', \n",
    "                    scatter_kws={'alpha':.8, 'edgecolor':'white'}, \n",
    "                    line_kws={'alpha':.5, 'color':'red'}, ax=ax[1])\n",
    "        ax[1].set_title('Regression Plot')\n",
    "        ax[1].set_xlabel('True')\n",
    "        ax[1].set_ylabel('Prediction')\n",
    "        ax[1].legend()\n",
    "        plt.show()\n",
    "    return"
   ]
  },
  {
   "cell_type": "code",
   "execution_count": 14,
   "metadata": {
    "ExecuteTime": {
     "end_time": "2019-04-27T14:45:20.171586Z",
     "start_time": "2019-04-27T14:44:51.434054Z"
    },
    "scrolled": false
   },
   "outputs": [
    {
     "data": {
      "application/vnd.jupyter.widget-view+json": {
       "model_id": "d85664d23f7d4095a92ac703d6ef81ac",
       "version_major": 2,
       "version_minor": 0
      },
      "text/plain": [
       "HBox(children=(IntProgress(value=0, max=13), HTML(value='')))"
      ]
     },
     "metadata": {},
     "output_type": "display_data"
    },
    {
     "name": "stdout",
     "output_type": "stream",
     "text": [
      "MODEL: LinearRegression\n",
      " - test mae: 4.93\n",
      " - test smape: 6.853272537886068\n",
      "MODEL: Ridge\n",
      " - test mae: 5.18\n",
      " - test smape: 7.071979553730083\n",
      "MODEL: Lasso\n",
      " - test mae: 12.56\n",
      " - test smape: 14.765379993720295\n",
      "MODEL: ElasticNet\n",
      " - test mae: 12.56\n",
      " - test smape: 14.765379993720295\n",
      "MODEL: KNeighbors\n",
      " - test mae: 11.27\n",
      " - test smape: 13.696127569169791\n",
      "MODEL: RandomForest\n",
      " - test mae: 6.61\n",
      " - test smape: 8.16477061977442\n",
      "MODEL: ExtraTrees\n",
      " - test mae: 6.89\n",
      " - test smape: 8.423953430738026\n",
      "MODEL: AdaBoost\n",
      " - test mae: 6.80\n",
      " - test smape: 8.330498415428467\n",
      "MODEL: GradientBoost\n",
      " - test mae: 5.76\n",
      " - test smape: 7.131328736457927\n",
      "MODEL: SVR\n",
      " - test mae: 7.24\n",
      " - test smape: 9.01706287381304\n",
      "MODEL: XGBoost\n",
      " - test mae: 5.77\n",
      " - test smape: 7.197496137735273\n",
      "MODEL: LightGBM\n",
      " - test mae: 6.06\n",
      " - test smape: 7.500362237159504\n",
      "MODEL: MLP\n",
      " - test mae: 8.17\n",
      " - test smape: 10.734589212751771\n"
     ]
    }
   ],
   "source": [
    "model0 = ('LinearRegression', LinearRegression(n_jobs=-1))\n",
    "model1 = ('Ridge', Ridge(random_state=33))\n",
    "model2 = ('Lasso', Lasso(random_state=33))\n",
    "model3 = ('ElasticNet', ElasticNet(random_state=33))\n",
    "model4 = ('KNeighbors', KNeighborsRegressor(n_jobs=-1))\n",
    "model5 = ('RandomForest', RandomForestRegressor(n_jobs=-1, random_state=33))\n",
    "model6 = ('ExtraTrees', ExtraTreesRegressor(n_jobs=-1, random_state=33))\n",
    "model7 = ('AdaBoost', AdaBoostRegressor(random_state=33))\n",
    "model8 = ('GradientBoost', GradientBoostingRegressor(random_state=33))\n",
    "model9 = ('SVR', SVR())\n",
    "model10 = ('XGBoost', XGBRegressor(n_jobs=-1, random_state=33))\n",
    "model11 = ('LightGBM', LGBMRegressor(n_jobs=-1, random_state=33))\n",
    "model12 = ('MLP', MLPRegressor(random_state=33))\n",
    "\n",
    "models = [model0, model1, model2, model3, model4, model5, model6, model7, \n",
    "          model8, model9, model10, model11, model12]\n",
    "\n",
    "tscv = TimeSeriesSplit(n_splits=5)\n",
    "scaler = MinMaxScaler(feature_range=(-1,1))\n",
    "\n",
    "for i, model in tqdm_notebook(enumerate(models), total=len(models)):\n",
    "    print(f\"MODEL: {model[0]}\")\n",
    "    predictions = eval_model(model[1], tscv, X, y)[['true','test_pred']].dropna()\n",
    "    print(f\" - test mae: {mean_absolute_error(predictions['true'], predictions['test_pred']):.2f}\")\n",
    "    print(f\" - test smape: {smape(predictions['true'], predictions['test_pred'])}\")"
   ]
  },
  {
   "cell_type": "markdown",
   "metadata": {
    "ExecuteTime": {
     "end_time": "2019-04-27T15:01:46.935938Z",
     "start_time": "2019-04-27T15:01:46.925942Z"
    }
   },
   "source": [
    "It seems that linear models performs better, let's try to optimize some hyperparameters for Ridge, Lasso, ElasticNet and MLP.\n",
    "\n",
    "To do this we are going to use hyperopt library for bayesian search."
   ]
  },
  {
   "cell_type": "code",
   "execution_count": 16,
   "metadata": {
    "ExecuteTime": {
     "end_time": "2019-04-27T15:01:46.659702Z",
     "start_time": "2019-04-27T14:46:14.876394Z"
    }
   },
   "outputs": [
    {
     "name": "stdout",
     "output_type": "stream",
     "text": [
      "RIDGE\n",
      "100%|██████████| 100/100 [00:07<00:00, 13.05it/s, best loss: 4.93391550868278]\n",
      "The best hyperparameters:\n",
      "{'alpha': 1e-07, 'regressor': 'ridge'}\n",
      "LASSO\n",
      "100%|██████████| 100/100 [01:12<00:00,  1.21it/s, best loss: 4.913662486798732]\n",
      "The best hyperparameters:\n",
      "{'alpha': 0.0, 'max_iter': 1000, 'regressor': 'lasso'}\n",
      "ELASTICNET\n",
      "100%|██████████| 100/100 [01:34<00:00,  1.05s/it, best loss: 4.913662486798732]\n",
      "The best hyperparameters:\n",
      "{'alpha': 0.0, 'l1_ratio': 0.0001, 'max_iter': 1000, 'regressor': 'elasticnet'}\n",
      "MLP\n",
      "100%|██████████| 100/100 [12:36<00:00,  7.42s/it, best loss: 4.542979526318773]\n",
      "The best hyperparameters:\n",
      "{'activation': 'identity', 'alpha': 0.000214, 'hidden_layer_sizes': 140, 'momentum': 0.7000000000000001, 'regressor': 'mlp', 'solver': 'lbfgs'}\n"
     ]
    }
   ],
   "source": [
    "from hyperopt import hp, fmin, tpe, STATUS_OK, Trials, space_eval, STATUS_FAIL\n",
    "from hyperopt.pyll.base import scope\n",
    "\n",
    "tscv = TimeSeriesSplit(n_splits=5)\n",
    "\n",
    "spaces = {\n",
    "    'ridge': {\n",
    "         'regressor': 'ridge',\n",
    "         'alpha': hp.qloguniform('alpha', np.log(1e-8), np.log(10), 1e-7)\n",
    "     },\n",
    "    'lasso': {\n",
    "        'regressor': 'lasso',\n",
    "        'alpha': hp.qloguniform('alpha', np.log(1e-8), np.log(10), 1e-7),\n",
    "        'max_iter': scope.int(hp.quniform('max_iter', 1000, 5000, 500))\n",
    "    },\n",
    "    'elasticnet': {\n",
    "        'regressor': 'elasticnet',\n",
    "        'alpha': hp.qloguniform('alpha', np.log(1e-8), np.log(10), 1e-7),\n",
    "        'l1_ratio': hp.qloguniform('l1_ratio', np.log(1e-5), np.log(10), 1e-4),\n",
    "        'max_iter': scope.int(hp.quniform('max_iter', 1000, 5000, 500))\n",
    "    },\n",
    "    'mlp': {\n",
    "        'regressor': 'mlp',\n",
    "        'hidden_layer_sizes': scope.int(hp.quniform('hidden_layer_sizes', 10, 500, 10)),\n",
    "        'activation': hp.choice('activation', ['identity', 'logistic', 'tanh', 'relu']),\n",
    "        'solver': hp.choice('solver', ['lbfgs', 'sgd', 'adam']),\n",
    "        'alpha': hp.qloguniform('alpha', np.log(1e-7), np.log(10), 1e-6),\n",
    "        'momentum': hp.quniform('momentum', 0.1, 0.9, 0.1)\n",
    "    }\n",
    "}\n",
    "\n",
    "# Objective Function to minimize\n",
    "def f_objective(p):\n",
    "    try:\n",
    "        t = p['regressor']\n",
    "        del p['regressor']\n",
    "        if t == 'ridge':\n",
    "            model = Ridge(random_state=33, **p)\n",
    "        elif t == 'lasso':\n",
    "            model = Lasso(random_state=33, **p)\n",
    "        elif t == 'elasticnet':\n",
    "            model = ElasticNet(random_state=33, **p)\n",
    "        elif t == 'mlp':\n",
    "            model = MLPRegressor(random_state=33, early_stopping=True, **p)\n",
    "\n",
    "        predictions = eval_model(model=model, cv=tscv, X=X, y=y)[['true','test_pred']].dropna()\n",
    "        loss = mean_absolute_error(predictions['true'], predictions['test_pred'])\n",
    "\n",
    "        return { 'loss': loss, 'status': STATUS_OK }\n",
    "    except Exception as e:\n",
    "        #print(f\"Error: {e}\")\n",
    "        return { 'loss': np.Inf, 'status': STATUS_FAIL }\n",
    "    \n",
    "for model, space in spaces.items():\n",
    "    print(model.upper())\n",
    "    best = fmin(fn=f_objective,\n",
    "                space=space, \n",
    "                algo=tpe.suggest,\n",
    "                max_evals=100,\n",
    "                show_progressbar=True,\n",
    "                trials=Trials())\n",
    "    # best hyperparameters\n",
    "    print(\"The best hyperparameters:\")\n",
    "    print(space_eval(space, best))"
   ]
  },
  {
   "cell_type": "code",
   "execution_count": 18,
   "metadata": {
    "ExecuteTime": {
     "end_time": "2019-04-27T15:02:48.112225Z",
     "start_time": "2019-04-27T15:02:41.490279Z"
    }
   },
   "outputs": [
    {
     "name": "stdout",
     "output_type": "stream",
     "text": [
      "R2 Score Train:  0.923\n",
      "R2 Score Test:   0.867\n",
      "RMSE Train:      4.081\n",
      "RMSE Test:       5.968\n",
      "MAE Train:       3.076\n",
      "MAE Test:        4.543\n",
      "sMAPE Train:     4.216\n",
      "sMAPE Test:      6.196\n"
     ]
    },
    {
     "data": {
      "image/png": "[encoded data removed]",
      "text/plain": [
       "<Figure size 720x216 with 2 Axes>"
      ]
     },
     "metadata": {
      "needs_background": "light"
     },
     "output_type": "display_data"
    }
   ],
   "source": [
    "best_mlp = {'activation': 'identity', 'alpha': 0.000214, 'hidden_layer_sizes': 140, \n",
    "            'momentum': 0.7, 'solver': 'lbfgs'}\n",
    "\n",
    "model = MLPRegressor(random_state=33, early_stopping=True, **best_mlp)\n",
    "predictions = eval_model(model, tscv, X, y)\n",
    "eval_predictions(predictions)"
   ]
  },
  {
   "cell_type": "markdown",
   "metadata": {},
   "source": [
    "We reached the best MAE on test data __(4.54€)__ with a MLP."
   ]
  },
  {
   "cell_type": "markdown",
   "metadata": {},
   "source": [
    "We used all the dataset to build machine learning models (I tried PCA before but didn't help), we can try to reduce the dimensionality with some feature selection approaches and see what happends.\n",
    "\n",
    "I decided to test the performances only for one model: XGBoost"
   ]
  },
  {
   "cell_type": "markdown",
   "metadata": {
    "ExecuteTime": {
     "end_time": "2019-04-07T10:45:48.504081Z",
     "start_time": "2019-04-07T10:45:48.500272Z"
    }
   },
   "source": [
    "### XGBoost feature selection"
   ]
  },
  {
   "cell_type": "markdown",
   "metadata": {},
   "source": [
    "#### 1. RFECV"
   ]
  },
  {
   "cell_type": "code",
   "execution_count": 20,
   "metadata": {
    "ExecuteTime": {
     "end_time": "2019-04-27T15:09:10.628739Z",
     "start_time": "2019-04-27T15:03:46.722165Z"
    },
    "scrolled": true
   },
   "outputs": [
    {
     "name": "stdout",
     "output_type": "stream",
     "text": [
      "Fitting estimator with 131 features.\n",
      "Fitting estimator with 130 features.\n",
      "Fitting estimator with 129 features.\n",
      "Fitting estimator with 128 features.\n",
      "Fitting estimator with 127 features.\n",
      "Fitting estimator with 126 features.\n",
      "Fitting estimator with 125 features.\n",
      "Fitting estimator with 124 features.\n",
      "Fitting estimator with 123 features.\n",
      "Fitting estimator with 122 features.\n",
      "Fitting estimator with 121 features.\n",
      "Fitting estimator with 120 features.\n",
      "Fitting estimator with 119 features.\n",
      "Fitting estimator with 118 features.\n",
      "Fitting estimator with 117 features.\n",
      "Fitting estimator with 116 features.\n",
      "Fitting estimator with 115 features.\n",
      "Fitting estimator with 114 features.\n",
      "Fitting estimator with 113 features.\n",
      "Fitting estimator with 112 features.\n",
      "Fitting estimator with 111 features.\n",
      "Fitting estimator with 110 features.\n",
      "Fitting estimator with 109 features.\n",
      "Fitting estimator with 108 features.\n",
      "Fitting estimator with 107 features.\n",
      "Fitting estimator with 106 features.\n",
      "Fitting estimator with 105 features.\n",
      "Fitting estimator with 104 features.\n",
      "Fitting estimator with 103 features.\n",
      "Fitting estimator with 102 features.\n",
      "Fitting estimator with 101 features.\n",
      "Fitting estimator with 100 features.\n",
      "Fitting estimator with 99 features.\n",
      "Fitting estimator with 98 features.\n",
      "Fitting estimator with 97 features.\n",
      "Fitting estimator with 96 features.\n",
      "Fitting estimator with 95 features.\n",
      "Fitting estimator with 94 features.\n",
      "Fitting estimator with 93 features.\n",
      "Fitting estimator with 92 features.\n",
      "Fitting estimator with 91 features.\n",
      "Fitting estimator with 90 features.\n",
      "Fitting estimator with 89 features.\n",
      "Fitting estimator with 88 features.\n",
      "Fitting estimator with 87 features.\n",
      "Fitting estimator with 86 features.\n",
      "Fitting estimator with 85 features.\n",
      "Fitting estimator with 84 features.\n",
      "Fitting estimator with 83 features.\n",
      "Fitting estimator with 82 features.\n",
      "Fitting estimator with 81 features.\n",
      "Fitting estimator with 80 features.\n",
      "Fitting estimator with 79 features.\n",
      "Fitting estimator with 78 features.\n",
      "Fitting estimator with 77 features.\n",
      "Fitting estimator with 76 features.\n",
      "Fitting estimator with 75 features.\n",
      "Fitting estimator with 74 features.\n",
      "Fitting estimator with 73 features.\n",
      "Fitting estimator with 72 features.\n",
      "Fitting estimator with 71 features.\n",
      "Fitting estimator with 70 features.\n",
      "Fitting estimator with 69 features.\n",
      "Fitting estimator with 68 features.\n",
      "Fitting estimator with 67 features.\n",
      "Fitting estimator with 66 features.\n",
      "Fitting estimator with 65 features.\n",
      "Fitting estimator with 64 features.\n",
      "Fitting estimator with 63 features.\n",
      "Fitting estimator with 62 features.\n",
      "Fitting estimator with 61 features.\n",
      "Fitting estimator with 60 features.\n",
      "Fitting estimator with 59 features.\n",
      "Fitting estimator with 58 features.\n",
      "Fitting estimator with 57 features.\n",
      "Fitting estimator with 56 features.\n",
      "Fitting estimator with 55 features.\n",
      "Fitting estimator with 54 features.\n",
      "Fitting estimator with 53 features.\n",
      "Fitting estimator with 52 features.\n",
      "Fitting estimator with 51 features.\n",
      "Fitting estimator with 50 features.\n",
      "Fitting estimator with 49 features.\n",
      "Fitting estimator with 48 features.\n",
      "Fitting estimator with 47 features.\n",
      "Fitting estimator with 46 features.\n",
      "Fitting estimator with 45 features.\n",
      "Fitting estimator with 44 features.\n",
      "Fitting estimator with 43 features.\n",
      "Fitting estimator with 42 features.\n",
      "Fitting estimator with 41 features.\n",
      "Fitting estimator with 40 features.\n",
      "Fitting estimator with 39 features.\n",
      "Fitting estimator with 38 features.\n",
      "Fitting estimator with 37 features.\n",
      "Fitting estimator with 36 features.\n",
      "Fitting estimator with 35 features.\n",
      "Fitting estimator with 34 features.\n",
      "Fitting estimator with 33 features.\n",
      "Fitting estimator with 32 features.\n",
      "Fitting estimator with 31 features.\n",
      "Fitting estimator with 30 features.\n",
      "Fitting estimator with 29 features.\n",
      "Fitting estimator with 28 features.\n",
      "Fitting estimator with 27 features.\n",
      "Fitting estimator with 26 features.\n",
      "Fitting estimator with 25 features.\n",
      "Fitting estimator with 24 features.\n",
      "Fitting estimator with 23 features.\n",
      "Fitting estimator with 22 features.\n",
      "Fitting estimator with 21 features.\n",
      "Fitting estimator with 20 features.\n",
      "Fitting estimator with 19 features.\n",
      "Fitting estimator with 18 features.\n",
      "Fitting estimator with 17 features.\n",
      "Fitting estimator with 16 features.\n",
      "Optimal number of features : 15\n",
      "['Y-7', 'Y-6', 'Y-5', 'Y-4', 'Y-1', 'GENERATION_FORECAST-7', 'GENERATION_FORECAST-2', 'GENERATION_FORECAST-1', 'LOAD_FORECAST', 'GENERATION_FORECAST', 'crossborder_flow_DE-FR', 'WD_5', 'WD_6', 'HOLIDAY', 'AVG-7']\n"
     ]
    },
    {
     "data": {
      "image/png": "[encoded data removed]",
      "text/plain": [
       "<Figure size 432x288 with 1 Axes>"
      ]
     },
     "metadata": {
      "needs_background": "light"
     },
     "output_type": "display_data"
    }
   ],
   "source": [
    "from sklearn.feature_selection import RFECV\n",
    "\n",
    "regressor = XGBRegressor(n_jobs=-1, random_state=33)\n",
    "tscv = TimeSeriesSplit(n_splits=5)\n",
    "rfecv = RFECV(estimator=regressor, cv=tscv, verbose=1, n_jobs=-1)\n",
    "rfecv.fit(X, y)\n",
    "\n",
    "print(f'Optimal number of features : {rfecv.n_features_}')\n",
    "features = list(X.columns[rfecv.get_support()])\n",
    "print(features)\n",
    "\n",
    "plt.figure()\n",
    "plt.xlabel(\"Number of features selected\")\n",
    "plt.ylabel(\"Cross validation score\")\n",
    "plt.plot(range(1, len(rfecv.grid_scores_) + 1), rfecv.grid_scores_)\n",
    "plt.plot(rfecv.n_features_, max(rfecv.grid_scores_), 'ro')\n",
    "plt.show()\n",
    "\n",
    "X_rfe = pd.DataFrame(rfecv.transform(X), index=X.index, columns=features)"
   ]
  },
  {
   "cell_type": "code",
   "execution_count": 21,
   "metadata": {
    "ExecuteTime": {
     "end_time": "2019-04-27T15:09:41.776203Z",
     "start_time": "2019-04-27T15:09:39.574243Z"
    },
    "scrolled": true
   },
   "outputs": [
    {
     "name": "stdout",
     "output_type": "stream",
     "text": [
      "R2 Score Train:  0.947\n",
      "R2 Score Test:   0.802\n",
      "RMSE Train:      3.380\n",
      "RMSE Test:       7.266\n",
      "MAE Train:       2.569\n",
      "MAE Test:        5.085\n",
      "sMAPE Train:     3.583\n",
      "sMAPE Test:      6.313\n"
     ]
    },
    {
     "data": {
      "image/png": "[encoded data removed]",
      "text/plain": [
       "<Figure size 720x216 with 2 Axes>"
      ]
     },
     "metadata": {
      "needs_background": "light"
     },
     "output_type": "display_data"
    }
   ],
   "source": [
    "regressor = XGBRegressor(n_jobs=-1, random_state=33)\n",
    "predictions = eval_model(model=regressor, cv=tscv, X=X_rfe, y=y)\n",
    "eval_predictions(predictions)"
   ]
  },
  {
   "cell_type": "markdown",
   "metadata": {
    "ExecuteTime": {
     "end_time": "2019-04-27T15:10:35.026724Z",
     "start_time": "2019-04-27T15:10:35.019589Z"
    }
   },
   "source": [
    "We reduced a bit the error, but we still have some overfitting."
   ]
  },
  {
   "cell_type": "markdown",
   "metadata": {},
   "source": [
    "#### 2. SFM"
   ]
  },
  {
   "cell_type": "code",
   "execution_count": 25,
   "metadata": {
    "ExecuteTime": {
     "end_time": "2019-04-27T15:12:39.451687Z",
     "start_time": "2019-04-27T15:12:31.574142Z"
    },
    "scrolled": false
   },
   "outputs": [
    {
     "data": {
      "application/vnd.jupyter.widget-view+json": {
       "model_id": "737f7e9cf711421281cb863dce7c41cc",
       "version_major": 2,
       "version_minor": 0
      },
      "text/plain": [
       "HBox(children=(IntProgress(value=0, max=15), HTML(value='')))"
      ]
     },
     "metadata": {},
     "output_type": "display_data"
    },
    {
     "data": {
      "image/png": "[encoded data removed]",
      "text/plain": [
       "<Figure size 432x288 with 1 Axes>"
      ]
     },
     "metadata": {
      "needs_background": "light"
     },
     "output_type": "display_data"
    }
   ],
   "source": [
    "from sklearn.feature_selection import SelectFromModel\n",
    "\n",
    "regressor = XGBRegressor(n_jobs=-1, random_state=33)\n",
    "sfm = SelectFromModel(estimator=regressor, max_features=X.shape[1])\n",
    "X_sfm = sfm.fit_transform(X, y)\n",
    "min_err, max_features, X_best, best_support = -np.Inf, -1, X_sfm, sfm.get_support()\n",
    "scores, n_features = [], []\n",
    "for n in tqdm_notebook(range(X_sfm.shape[1], 0, -1)):\n",
    "    sfm.max_features = n\n",
    "    X_sfm = sfm.transform(X)\n",
    "    score = np.mean(np.abs(cross_val_score(regressor, X_sfm, y, cv=tscv)))\n",
    "    scores.append(score)\n",
    "    n_features.append(n)\n",
    "    if score < min_err:\n",
    "        print(f'max_features: {n}, best score: {score}')\n",
    "        min_err = score\n",
    "        max_features=n\n",
    "        X_best = X_sfm.copy()\n",
    "        best_support = sfm.get_support()\n",
    "\n",
    "plt.figure()\n",
    "plt.plot(n_features, scores)\n",
    "plt.plot(n_features[np.argmax(scores)], max(scores), 'ro')\n",
    "plt.title('Selected scores for max features')\n",
    "plt.xlabel('Max Features')\n",
    "plt.ylabel('Score (mae)')\n",
    "plt.show()\n",
    "\n",
    "X_sfm = pd.DataFrame(X_best, columns=X.columns[best_support], index=X.index)"
   ]
  },
  {
   "cell_type": "code",
   "execution_count": 26,
   "metadata": {
    "ExecuteTime": {
     "end_time": "2019-04-27T15:13:03.204447Z",
     "start_time": "2019-04-27T15:13:00.956279Z"
    },
    "scrolled": true
   },
   "outputs": [
    {
     "name": "stdout",
     "output_type": "stream",
     "text": [
      "R2 Score Train:  0.946\n",
      "R2 Score Test:   0.788\n",
      "RMSE Train:      3.431\n",
      "RMSE Test:       7.520\n",
      "MAE Train:       2.589\n",
      "MAE Test:        5.291\n",
      "sMAPE Train:     3.609\n",
      "sMAPE Test:      6.582\n"
     ]
    },
    {
     "data": {
      "image/png": "[encoded data removed]",
      "text/plain": [
       "<Figure size 720x216 with 2 Axes>"
      ]
     },
     "metadata": {
      "needs_background": "light"
     },
     "output_type": "display_data"
    }
   ],
   "source": [
    "regressor = XGBRegressor(n_jobs=-1, random_state=33)\n",
    "predictions = eval_model(model=regressor, cv=tscv, X=X_sfm, y=y)\n",
    "eval_predictions(predictions)"
   ]
  },
  {
   "cell_type": "markdown",
   "metadata": {},
   "source": [
    "Well, it seems that using XGBoost with recursive feature eliminations performs better than SelectFromModel.\n",
    "\n",
    "Let's try to optimize some hyperparameters and see the results."
   ]
  },
  {
   "cell_type": "code",
   "execution_count": 38,
   "metadata": {
    "ExecuteTime": {
     "end_time": "2019-04-27T16:09:53.832103Z",
     "start_time": "2019-04-27T16:03:29.824978Z"
    }
   },
   "outputs": [
    {
     "name": "stdout",
     "output_type": "stream",
     "text": [
      "100%|██████████| 100/100 [06:23<00:00,  4.98s/it, best loss: 4.944221679504078]\n",
      "The best hyperparameters:\n",
      "{'gamma': 0.019, 'learning_rate': 0.11170000000000001, 'max_depth': 2, 'n_estimators': 649, 'reg_alpha': 0.001, 'reg_lambda': 0.451}\n"
     ]
    }
   ],
   "source": [
    "space_xgboost = {\n",
    "    'max_depth': scope.int(hp.quniform('max_depth', 2, 10, 1)),\n",
    "    'learning_rate': hp.qloguniform('learning_rate', np.log(1e-4), np.log(10), 1e-4),\n",
    "    'n_estimators': scope.int(hp.quniform('n_estimators', 30, 1000, 1)),\n",
    "    'gamma': hp.qloguniform('gamma', np.log(1e-4), np.log(10), 1e-3),\n",
    "    'reg_alpha': hp.qloguniform('reg_alpha', np.log(1e-4), np.log(10), 1e-3),\n",
    "    'reg_lambda': hp.qloguniform('reg_lambda', np.log(1e-4), np.log(10), 1e-3)\n",
    "}\n",
    "\n",
    "# Objective Function to minimize\n",
    "def f_objective(p):\n",
    "    try:\n",
    "        model = XGBRegressor(n_jobs=-1, random_state=33, **p)\n",
    "        predictions = eval_model(model=model, cv=tscv, X=X_rfe, y=y)[['true','test_pred']].dropna()\n",
    "        loss = mean_absolute_error(predictions['true'], predictions['test_pred'])\n",
    "\n",
    "        return { 'loss': loss, 'status': STATUS_OK }\n",
    "    except Exception as e:\n",
    "        #print(f\"Error: {e}\")\n",
    "        return { 'loss': np.Inf, 'status': STATUS_FAIL }\n",
    "    \n",
    "best = fmin(fn=f_objective,\n",
    "            space=space_xgboost, \n",
    "            algo=tpe.suggest,\n",
    "            max_evals=100,\n",
    "            show_progressbar=True,\n",
    "            trials=Trials())\n",
    "# best hyperparameters\n",
    "print(\"The best hyperparameters:\")\n",
    "print(space_eval(space_xgboost, best))"
   ]
  },
  {
   "cell_type": "markdown",
   "metadata": {
    "heading_collapsed": true
   },
   "source": [
    "# Conclusions\n",
    "\n",
    "We achieved the best result using _MLP_ regression, with a mean absolute error on test data equals to __4.54 €__"
   ]
  },
  {
   "cell_type": "code",
   "execution_count": null,
   "metadata": {
    "hidden": true
   },
   "outputs": [],
   "source": []
  }
 ],
 "metadata": {
  "hide_input": false,
  "kernelspec": {
   "display_name": "Python 3",
   "language": "python",
   "name": "python3"
  },
  "language_info": {
   "codemirror_mode": {
    "name": "ipython",
    "version": 3
   },
   "file_extension": ".py",
   "mimetype": "text/x-python",
   "name": "python",
   "nbconvert_exporter": "python",
   "pygments_lexer": "ipython3",
   "version": "3.7.1"
  },
  "varInspector": {
   "cols": {
    "lenName": 16,
    "lenType": 16,
    "lenVar": 40
   },
   "kernels_config": {
    "python": {
     "delete_cmd_postfix": "",
     "delete_cmd_prefix": "del ",
     "library": "var_list.py",
     "varRefreshCmd": "print(var_dic_list())"
    },
    "r": {
     "delete_cmd_postfix": ") ",
     "delete_cmd_prefix": "rm(",
     "library": "var_list.r",
     "varRefreshCmd": "cat(var_dic_list()) "
    }
   },
   "types_to_exclude": [
    "module",
    "function",
    "builtin_function_or_method",
    "instance",
    "_Feature"
   ],
   "window_display": false
  }
 },
 "nbformat": 4,
 "nbformat_minor": 2
}
