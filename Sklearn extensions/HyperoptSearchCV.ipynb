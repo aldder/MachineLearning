{
 "cells": [
  {
   "cell_type": "markdown",
   "metadata": {},
   "source": [
    "credits: https://github.com/DrMatters/hyperoptsearchcv"
   ]
  },
  {
   "cell_type": "code",
   "execution_count": 53,
   "metadata": {
    "ExecuteTime": {
     "end_time": "2020-07-01T09:16:37.111758Z",
     "start_time": "2020-07-01T09:16:37.108155Z"
    }
   },
   "outputs": [],
   "source": [
    "import numpy as np\n",
    "from script.hpscv import HyperoptSearchCV\n",
    "\n",
    "from sklearn.datasets import make_classification\n",
    "from sklearn.tree import DecisionTreeClassifier\n",
    "from sklearn.model_selection import cross_val_score, KFold, train_test_split\n",
    "from sklearn.feature_selection import SelectKBest, f_classif\n",
    "from sklearn.pipeline import Pipeline"
   ]
  },
  {
   "cell_type": "code",
   "execution_count": 54,
   "metadata": {
    "ExecuteTime": {
     "end_time": "2020-07-01T09:16:37.290767Z",
     "start_time": "2020-07-01T09:16:37.284815Z"
    }
   },
   "outputs": [
    {
     "name": "stdout",
     "output_type": "stream",
     "text": [
      "(1000, 20) (1000,)\n"
     ]
    }
   ],
   "source": [
    "X, y = make_classification(n_samples=1000, random_state=123)\n",
    "\n",
    "print(X.shape, y.shape)"
   ]
  },
  {
   "cell_type": "code",
   "execution_count": 55,
   "metadata": {
    "ExecuteTime": {
     "end_time": "2020-07-01T09:16:37.457718Z",
     "start_time": "2020-07-01T09:16:37.453750Z"
    }
   },
   "outputs": [],
   "source": [
    "pipe = Pipeline([\n",
    "    ('selector', SelectKBest(f_classif, k='all')),\n",
    "    ('estimator', DecisionTreeClassifier(random_state=123))\n",
    "])"
   ]
  },
  {
   "cell_type": "code",
   "execution_count": 56,
   "metadata": {
    "ExecuteTime": {
     "end_time": "2020-07-01T09:16:37.606134Z",
     "start_time": "2020-07-01T09:16:37.602700Z"
    }
   },
   "outputs": [],
   "source": [
    "cv = KFold(n_splits=10, shuffle=True, random_state=123)"
   ]
  },
  {
   "cell_type": "code",
   "execution_count": 58,
   "metadata": {
    "ExecuteTime": {
     "end_time": "2020-07-01T09:16:49.079231Z",
     "start_time": "2020-07-01T09:16:49.011643Z"
    },
    "scrolled": true
   },
   "outputs": [
    {
     "name": "stdout",
     "output_type": "stream",
     "text": [
      "[0.99 0.96 0.98 0.97 1.   0.95 0.98 1.   0.97 0.97]\n",
      "0.9770000000000001\n"
     ]
    }
   ],
   "source": [
    "scores = cross_val_score(estimator=pipe, X=X, y=y, scoring='accuracy', cv=cv, n_jobs=2, verbose=0)\n",
    "\n",
    "print(scores)\n",
    "print(scores.mean())"
   ]
  },
  {
   "cell_type": "code",
   "execution_count": 45,
   "metadata": {
    "ExecuteTime": {
     "end_time": "2020-07-01T09:12:33.393416Z",
     "start_time": "2020-07-01T09:12:33.387341Z"
    }
   },
   "outputs": [],
   "source": [
    "from hyperopt import hp\n",
    "from hyperopt.pyll.base import scope\n",
    "\n",
    "search = {\n",
    "    'selector__k': scope.int(hp.quniform('selector__k', 1, 20, 1)),\n",
    "    \n",
    "    'estimator__criterion': hp.choice('estimator__criterion', ['gini', 'entropy']),\n",
    "    'estimator__max_depth': scope.int(hp.quniform('estimator__max_depth', 1, 30, 1)),\n",
    "    'estimator__min_samples_split': scope.int(hp.quniform('estimator__min_samples_split', 2, 100, 1)),\n",
    "    'estimator__min_samples_leaf': scope.int(hp.quniform('estimator__min_samples_leaf', 1, 100, 1)),\n",
    "    'estimator__max_features': hp.choice('estimator__max_features', ['auto','sqrt','log2']),\n",
    "    'estimator__min_impurity_decrease': hp.quniform('estimator__min_impurity_decrease', 0, 10, 1e-3)\n",
    "}"
   ]
  },
  {
   "cell_type": "code",
   "execution_count": 46,
   "metadata": {
    "ExecuteTime": {
     "end_time": "2020-07-01T09:12:37.544107Z",
     "start_time": "2020-07-01T09:12:37.540140Z"
    }
   },
   "outputs": [],
   "source": [
    "hpscv = HyperoptSearchCV(\n",
    "    estimator=pipe,\n",
    "    search_space=search, \n",
    "    n_iter=1000, \n",
    "    scoring='accuracy',\n",
    "    cv=cv,\n",
    "    verbose=0,\n",
    "    n_jobs=-1,\n",
    "    greater_is_better=True\n",
    ")"
   ]
  },
  {
   "cell_type": "code",
   "execution_count": 47,
   "metadata": {
    "ExecuteTime": {
     "end_time": "2020-07-01T09:14:51.703886Z",
     "start_time": "2020-07-01T09:12:38.995833Z"
    }
   },
   "outputs": [
    {
     "name": "stdout",
     "output_type": "stream",
     "text": [
      "100%|███████████████████████████████████████████| 1000/1000 [02:12<00:00,  7.54trial/s, best loss: -0.9780000000000001]\n"
     ]
    },
    {
     "data": {
      "text/plain": [
       "HyperoptSearchCV(cv=KFold(n_splits=10, random_state=123, shuffle=True),\n",
       "                 estimator=Pipeline(steps=[('selector', SelectKBest(k=4)),\n",
       "                                           ('estimator',\n",
       "                                            DecisionTreeClassifier(criterion='entropy',\n",
       "                                                                   max_depth=22,\n",
       "                                                                   max_features='log2',\n",
       "                                                                   min_impurity_decrease=0.007,\n",
       "                                                                   min_samples_leaf=14,\n",
       "                                                                   min_samples_split=88,\n",
       "                                                                   random_state=123))]),\n",
       "                 greater_is_better=True, n_iter=1000, n_jobs=-1,\n",
       "                 s...\n",
       "                               'estimator__max_features': <hyperopt.pyll.base.Apply object at 0x0000016D311E3708>,\n",
       "                               'estimator__min_impurity_decrease': <hyperopt.pyll.base.Apply object at 0x0000016D311E3288>,\n",
       "                               'estimator__min_samples_leaf': <hyperopt.pyll.base.Apply object at 0x0000016D31215A08>,\n",
       "                               'estimator__min_samples_split': <hyperopt.pyll.base.Apply object at 0x0000016D30D9ED08>,\n",
       "                               'selector__k': <hyperopt.pyll.base.Apply object at 0x0000016D3120EE88>},\n",
       "                 verbose=0)"
      ]
     },
     "execution_count": 47,
     "metadata": {},
     "output_type": "execute_result"
    }
   ],
   "source": [
    "hpscv.fit(X, y)"
   ]
  },
  {
   "cell_type": "code",
   "execution_count": 48,
   "metadata": {
    "ExecuteTime": {
     "end_time": "2020-07-01T09:15:20.167672Z",
     "start_time": "2020-07-01T09:15:20.163694Z"
    }
   },
   "outputs": [
    {
     "data": {
      "text/plain": [
       "-0.9780000000000001"
      ]
     },
     "execution_count": 48,
     "metadata": {},
     "output_type": "execute_result"
    }
   ],
   "source": [
    "hpscv.best_score_"
   ]
  },
  {
   "cell_type": "code",
   "execution_count": 49,
   "metadata": {
    "ExecuteTime": {
     "end_time": "2020-07-01T09:15:26.505481Z",
     "start_time": "2020-07-01T09:15:26.500025Z"
    }
   },
   "outputs": [
    {
     "data": {
      "text/plain": [
       "{'estimator__criterion': 'entropy',\n",
       " 'estimator__max_depth': 22,\n",
       " 'estimator__max_features': 'log2',\n",
       " 'estimator__min_impurity_decrease': 0.007,\n",
       " 'estimator__min_samples_leaf': 14,\n",
       " 'estimator__min_samples_split': 88,\n",
       " 'selector__k': 4}"
      ]
     },
     "execution_count": 49,
     "metadata": {},
     "output_type": "execute_result"
    }
   ],
   "source": [
    "hpscv.best_params_"
   ]
  },
  {
   "cell_type": "code",
   "execution_count": 59,
   "metadata": {
    "ExecuteTime": {
     "end_time": "2020-07-01T09:16:53.700715Z",
     "start_time": "2020-07-01T09:16:53.691786Z"
    }
   },
   "outputs": [
    {
     "data": {
      "text/plain": [
       "Pipeline(steps=[('selector', SelectKBest(k=4)),\n",
       "                ('estimator',\n",
       "                 DecisionTreeClassifier(criterion='entropy', max_depth=22,\n",
       "                                        max_features='log2',\n",
       "                                        min_impurity_decrease=0.007,\n",
       "                                        min_samples_leaf=14,\n",
       "                                        min_samples_split=88,\n",
       "                                        random_state=123))])"
      ]
     },
     "execution_count": 59,
     "metadata": {},
     "output_type": "execute_result"
    }
   ],
   "source": [
    "pipe.set_params(**hpscv.best_params_)"
   ]
  },
  {
   "cell_type": "code",
   "execution_count": 60,
   "metadata": {
    "ExecuteTime": {
     "end_time": "2020-07-01T09:16:58.069965Z",
     "start_time": "2020-07-01T09:16:58.027766Z"
    }
   },
   "outputs": [
    {
     "name": "stdout",
     "output_type": "stream",
     "text": [
      "[0.98 0.98 0.99 0.95 1.   0.97 0.98 0.99 0.96 0.98]\n",
      "0.9780000000000001\n"
     ]
    }
   ],
   "source": [
    "scores = cross_val_score(estimator=pipe, X=X, y=y, scoring='accuracy', cv=cv, n_jobs=2, verbose=0)\n",
    "\n",
    "print(scores)\n",
    "print(scores.mean())"
   ]
  },
  {
   "cell_type": "code",
   "execution_count": null,
   "metadata": {},
   "outputs": [],
   "source": []
  },
  {
   "cell_type": "code",
   "execution_count": null,
   "metadata": {},
   "outputs": [],
   "source": []
  },
  {
   "cell_type": "code",
   "execution_count": null,
   "metadata": {},
   "outputs": [],
   "source": []
  },
  {
   "cell_type": "code",
   "execution_count": null,
   "metadata": {},
   "outputs": [],
   "source": []
  },
  {
   "cell_type": "code",
   "execution_count": null,
   "metadata": {},
   "outputs": [],
   "source": []
  },
  {
   "cell_type": "code",
   "execution_count": null,
   "metadata": {},
   "outputs": [],
   "source": []
  }
 ],
 "metadata": {
  "hide_input": false,
  "kernelspec": {
   "display_name": "Python 3",
   "language": "python",
   "name": "python3"
  },
  "language_info": {
   "codemirror_mode": {
    "name": "ipython",
    "version": 3
   },
   "file_extension": ".py",
   "mimetype": "text/x-python",
   "name": "python",
   "nbconvert_exporter": "python",
   "pygments_lexer": "ipython3",
   "version": "3.7.6"
  },
  "varInspector": {
   "cols": {
    "lenName": 16,
    "lenType": 16,
    "lenVar": 40
   },
   "kernels_config": {
    "python": {
     "delete_cmd_postfix": "",
     "delete_cmd_prefix": "del ",
     "library": "var_list.py",
     "varRefreshCmd": "print(var_dic_list())"
    },
    "r": {
     "delete_cmd_postfix": ") ",
     "delete_cmd_prefix": "rm(",
     "library": "var_list.r",
     "varRefreshCmd": "cat(var_dic_list()) "
    }
   },
   "types_to_exclude": [
    "module",
    "function",
    "builtin_function_or_method",
    "instance",
    "_Feature"
   ],
   "window_display": false
  }
 },
 "nbformat": 4,
 "nbformat_minor": 4
}
