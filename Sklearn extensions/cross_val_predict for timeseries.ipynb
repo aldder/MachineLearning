{
  "nbformat": 4,
  "nbformat_minor": 0,
  "metadata": {
    "colab": {
      "name": "Untitled13.ipynb",
      "provenance": [],
      "collapsed_sections": [],
      "toc_visible": true,
      "authorship_tag": "ABX9TyMbkKaE9VmFTSDJ44zJmO+e"
    },
    "kernelspec": {
      "name": "python3",
      "display_name": "Python 3"
    }
  },
  "cells": [
    {
      "cell_type": "code",
      "metadata": {
        "id": "ZgeqH8ooePDr",
        "colab_type": "code",
        "colab": {}
      },
      "source": [
        "import pandas as pd\n",
        "import numpy as np\n",
        "from sklearn.datasets import make_regression\n",
        "from sklearn.pipeline import Pipeline\n",
        "from sklearn.preprocessing import StandardScaler\n",
        "from sklearn.model_selection import KFold, TimeSeriesSplit, cross_val_score, cross_val_predict\n",
        "from sklearn.linear_model import LinearRegression"
      ],
      "execution_count": 59,
      "outputs": []
    },
    {
      "cell_type": "markdown",
      "metadata": {
        "id": "nBav435ZhdmJ",
        "colab_type": "text"
      },
      "source": [
        "### Define a regression problem"
      ]
    },
    {
      "cell_type": "code",
      "metadata": {
        "id": "fo1ewD9UejI2",
        "colab_type": "code",
        "colab": {}
      },
      "source": [
        "X, y = make_regression(n_samples=100, n_features=3, n_informative=1, n_targets=1, bias=5., noise=5.)"
      ],
      "execution_count": 60,
      "outputs": []
    },
    {
      "cell_type": "code",
      "metadata": {
        "id": "HXVrgc_tesKl",
        "colab_type": "code",
        "colab": {
          "base_uri": "https://localhost:8080/",
          "height": 33
        },
        "outputId": "2012ed64-8314-4f79-d538-480c580a2bb6"
      },
      "source": [
        "X.shape, y.shape"
      ],
      "execution_count": 61,
      "outputs": [
        {
          "output_type": "execute_result",
          "data": {
            "text/plain": [
              "((100, 3), (100,))"
            ]
          },
          "metadata": {
            "tags": []
          },
          "execution_count": 61
        }
      ]
    },
    {
      "cell_type": "markdown",
      "metadata": {
        "id": "jO6uOvJIhir-",
        "colab_type": "text"
      },
      "source": [
        "### Build a simple pipeline"
      ]
    },
    {
      "cell_type": "code",
      "metadata": {
        "id": "e64mtB2jewSB",
        "colab_type": "code",
        "colab": {}
      },
      "source": [
        "model = Pipeline([('scaler', StandardScaler()),\n",
        "                  ('estimator', LinearRegression())])"
      ],
      "execution_count": 62,
      "outputs": []
    },
    {
      "cell_type": "markdown",
      "metadata": {
        "id": "66Kh5VFThlXh",
        "colab_type": "text"
      },
      "source": [
        "### Define cross-validations methods"
      ]
    },
    {
      "cell_type": "code",
      "metadata": {
        "id": "BPJPuu5vfFJi",
        "colab_type": "code",
        "colab": {}
      },
      "source": [
        "kfoldcv = KFold(n_splits=5)\n",
        "\n",
        "tscv = TimeSeriesSplit(n_splits=5)"
      ],
      "execution_count": 123,
      "outputs": []
    },
    {
      "cell_type": "markdown",
      "metadata": {
        "id": "o0OoZUxXhr82",
        "colab_type": "text"
      },
      "source": [
        "### Run *cross_validation_score* with **KFold CV**"
      ]
    },
    {
      "cell_type": "code",
      "metadata": {
        "id": "TjyT7tOcfSex",
        "colab_type": "code",
        "colab": {
          "base_uri": "https://localhost:8080/",
          "height": 82
        },
        "outputId": "144a4c22-a95e-451d-de74-946ea93413ea"
      },
      "source": [
        "scores = cross_val_score(estimator=model, X=X, y=y, scoring='r2', cv=kfoldcv, n_jobs=-1, verbose=1)\n",
        "\n",
        "print(f\"SCORES: {scores}\")\n",
        "print(f\"AVG SCORE: {np.mean(scores):.2f} +- {np.std(scores):.2f}\")"
      ],
      "execution_count": 64,
      "outputs": [
        {
          "output_type": "stream",
          "text": [
            "SCORES: [0.98424407 0.98396732 0.99202809 0.99122747 0.99152061]\n",
            "AVG SCORE: 0.99 +- 0.00\n"
          ],
          "name": "stdout"
        },
        {
          "output_type": "stream",
          "text": [
            "[Parallel(n_jobs=-1)]: Using backend LokyBackend with 2 concurrent workers.\n",
            "[Parallel(n_jobs=-1)]: Done   5 out of   5 | elapsed:    0.0s finished\n"
          ],
          "name": "stderr"
        }
      ]
    },
    {
      "cell_type": "markdown",
      "metadata": {
        "id": "pE19Muk_hzb6",
        "colab_type": "text"
      },
      "source": [
        "### Run *cross_validation_score* with **TimeSeriesSplit CV**"
      ]
    },
    {
      "cell_type": "code",
      "metadata": {
        "id": "8ym83VqmhTYM",
        "colab_type": "code",
        "colab": {
          "base_uri": "https://localhost:8080/",
          "height": 82
        },
        "outputId": "f50d1e19-83d8-4901-dadf-539a27f47abd"
      },
      "source": [
        "scores = cross_val_score(estimator=model, X=X, y=y, scoring='r2', cv=tscv, n_jobs=-1, verbose=1)\n",
        "\n",
        "print(f\"SCORES: {scores}\")\n",
        "print(f\"AVG SCORE: {np.mean(scores):.2f} +- {np.std(scores):.2f}\")"
      ],
      "execution_count": 70,
      "outputs": [
        {
          "output_type": "stream",
          "text": [
            "SCORES: [0.96015185 0.99052785 0.99095546 0.98974145 0.99179943]\n",
            "AVG SCORE: 0.98 +- 0.01\n"
          ],
          "name": "stdout"
        },
        {
          "output_type": "stream",
          "text": [
            "[Parallel(n_jobs=-1)]: Using backend LokyBackend with 2 concurrent workers.\n",
            "[Parallel(n_jobs=-1)]: Done   5 out of   5 | elapsed:    0.0s finished\n"
          ],
          "name": "stderr"
        }
      ]
    },
    {
      "cell_type": "markdown",
      "metadata": {
        "id": "tQxG0zfuh4pM",
        "colab_type": "text"
      },
      "source": [
        "### Run *cross_validation_predict* with **KFold CV**"
      ]
    },
    {
      "cell_type": "code",
      "metadata": {
        "id": "TKdeARqghYZI",
        "colab_type": "code",
        "colab": {
          "base_uri": "https://localhost:8080/",
          "height": 66
        },
        "outputId": "30a15c66-760a-45d9-ce48-498741fe621b"
      },
      "source": [
        "predictions = cross_val_predict(estimator=model, X=X, y=y, cv=kfoldcv, n_jobs=-1, verbose=1)\n",
        "\n",
        "print(len(predictions))"
      ],
      "execution_count": 75,
      "outputs": [
        {
          "output_type": "stream",
          "text": [
            "100\n"
          ],
          "name": "stdout"
        },
        {
          "output_type": "stream",
          "text": [
            "[Parallel(n_jobs=-1)]: Using backend LokyBackend with 2 concurrent workers.\n",
            "[Parallel(n_jobs=-1)]: Done   5 out of   5 | elapsed:    0.0s finished\n"
          ],
          "name": "stderr"
        }
      ]
    },
    {
      "cell_type": "markdown",
      "metadata": {
        "id": "jMKmeI-wjkHK",
        "colab_type": "text"
      },
      "source": [
        "### Run *cross_validation_predict* with **TimeSeriesSplit CV**"
      ]
    },
    {
      "cell_type": "code",
      "metadata": {
        "id": "SD-UNwrdiS5D",
        "colab_type": "code",
        "colab": {
          "base_uri": "https://localhost:8080/",
          "height": 337
        },
        "outputId": "c24b4851-3f71-4c21-928d-ebef8c9708b8"
      },
      "source": [
        "predictions = cross_val_predict(estimator=model, X=X, y=y, cv=tscv, n_jobs=-1, verbose=1)\n",
        "\n",
        "print(len(predictions))"
      ],
      "execution_count": 80,
      "outputs": [
        {
          "output_type": "stream",
          "text": [
            "[Parallel(n_jobs=-1)]: Using backend LokyBackend with 2 concurrent workers.\n",
            "[Parallel(n_jobs=-1)]: Done   5 out of   5 | elapsed:    0.8s finished\n"
          ],
          "name": "stderr"
        },
        {
          "output_type": "error",
          "ename": "ValueError",
          "evalue": "ignored",
          "traceback": [
            "\u001b[0;31m---------------------------------------------------------------------------\u001b[0m",
            "\u001b[0;31mValueError\u001b[0m                                Traceback (most recent call last)",
            "\u001b[0;32m<ipython-input-80-89e76ba80825>\u001b[0m in \u001b[0;36m<module>\u001b[0;34m()\u001b[0m\n\u001b[0;32m----> 1\u001b[0;31m \u001b[0mpredictions\u001b[0m \u001b[0;34m=\u001b[0m \u001b[0mcross_val_predict\u001b[0m\u001b[0;34m(\u001b[0m\u001b[0mestimator\u001b[0m\u001b[0;34m=\u001b[0m\u001b[0mmodel\u001b[0m\u001b[0;34m,\u001b[0m \u001b[0mX\u001b[0m\u001b[0;34m=\u001b[0m\u001b[0mX\u001b[0m\u001b[0;34m,\u001b[0m \u001b[0my\u001b[0m\u001b[0;34m=\u001b[0m\u001b[0my\u001b[0m\u001b[0;34m,\u001b[0m \u001b[0mcv\u001b[0m\u001b[0;34m=\u001b[0m\u001b[0mtscv\u001b[0m\u001b[0;34m,\u001b[0m \u001b[0mn_jobs\u001b[0m\u001b[0;34m=\u001b[0m\u001b[0;34m-\u001b[0m\u001b[0;36m1\u001b[0m\u001b[0;34m,\u001b[0m \u001b[0mverbose\u001b[0m\u001b[0;34m=\u001b[0m\u001b[0;36m1\u001b[0m\u001b[0;34m)\u001b[0m\u001b[0;34m\u001b[0m\u001b[0;34m\u001b[0m\u001b[0m\n\u001b[0m\u001b[1;32m      2\u001b[0m \u001b[0;34m\u001b[0m\u001b[0m\n\u001b[1;32m      3\u001b[0m \u001b[0mprint\u001b[0m\u001b[0;34m(\u001b[0m\u001b[0mlen\u001b[0m\u001b[0;34m(\u001b[0m\u001b[0mpredictions\u001b[0m\u001b[0;34m)\u001b[0m\u001b[0;34m)\u001b[0m\u001b[0;34m\u001b[0m\u001b[0;34m\u001b[0m\u001b[0m\n",
            "\u001b[0;32m/usr/local/lib/python3.6/dist-packages/sklearn/model_selection/_validation.py\u001b[0m in \u001b[0;36mcross_val_predict\u001b[0;34m(estimator, X, y, groups, cv, n_jobs, verbose, fit_params, pre_dispatch, method)\u001b[0m\n\u001b[1;32m    761\u001b[0m \u001b[0;34m\u001b[0m\u001b[0m\n\u001b[1;32m    762\u001b[0m     \u001b[0;32mif\u001b[0m \u001b[0;32mnot\u001b[0m \u001b[0m_check_is_permutation\u001b[0m\u001b[0;34m(\u001b[0m\u001b[0mtest_indices\u001b[0m\u001b[0;34m,\u001b[0m \u001b[0m_num_samples\u001b[0m\u001b[0;34m(\u001b[0m\u001b[0mX\u001b[0m\u001b[0;34m)\u001b[0m\u001b[0;34m)\u001b[0m\u001b[0;34m:\u001b[0m\u001b[0;34m\u001b[0m\u001b[0;34m\u001b[0m\u001b[0m\n\u001b[0;32m--> 763\u001b[0;31m         \u001b[0;32mraise\u001b[0m \u001b[0mValueError\u001b[0m\u001b[0;34m(\u001b[0m\u001b[0;34m'cross_val_predict only works for partitions'\u001b[0m\u001b[0;34m)\u001b[0m\u001b[0;34m\u001b[0m\u001b[0;34m\u001b[0m\u001b[0m\n\u001b[0m\u001b[1;32m    764\u001b[0m \u001b[0;34m\u001b[0m\u001b[0m\n\u001b[1;32m    765\u001b[0m     \u001b[0minv_test_indices\u001b[0m \u001b[0;34m=\u001b[0m \u001b[0mnp\u001b[0m\u001b[0;34m.\u001b[0m\u001b[0mempty\u001b[0m\u001b[0;34m(\u001b[0m\u001b[0mlen\u001b[0m\u001b[0;34m(\u001b[0m\u001b[0mtest_indices\u001b[0m\u001b[0;34m)\u001b[0m\u001b[0;34m,\u001b[0m \u001b[0mdtype\u001b[0m\u001b[0;34m=\u001b[0m\u001b[0mint\u001b[0m\u001b[0;34m)\u001b[0m\u001b[0;34m\u001b[0m\u001b[0;34m\u001b[0m\u001b[0m\n",
            "\u001b[0;31mValueError\u001b[0m: cross_val_predict only works for partitions"
          ]
        }
      ]
    },
    {
      "cell_type": "markdown",
      "metadata": {
        "id": "3MvjItpCtXen",
        "colab_type": "text"
      },
      "source": [
        "Original sklearn cross_val_predict doesn't work with TimeSeriesSplit cross-validation, we need to implement our own function that handles our needs"
      ]
    },
    {
      "cell_type": "code",
      "metadata": {
        "id": "KSHlmT3kjofG",
        "colab_type": "code",
        "colab": {}
      },
      "source": [
        "def cross_val_predict2(estimator, X, y, cv, method='predict', verbose=0):\n",
        "    from sklearn.base import clone\n",
        "    predictions = []\n",
        "    for i, (train, test) in enumerate(cv.split(X, y)):\n",
        "        if verbose:\n",
        "            print(f'cv-iteration {i+1}/{cv.n_splits}')\n",
        "        estimator2 = clone(estimator)\n",
        "        estimator2.fit(X[train], y[train])\n",
        "        predictions.extend(getattr(estimator2, method)(X[test]))\n",
        "\n",
        "    return np.array(predictions)"
      ],
      "execution_count": 124,
      "outputs": []
    },
    {
      "cell_type": "code",
      "metadata": {
        "id": "284PFXM1oYl_",
        "colab_type": "code",
        "colab": {
          "base_uri": "https://localhost:8080/",
          "height": 115
        },
        "outputId": "24530fc2-5b0b-4a04-89ae-fdfd501fb16c"
      },
      "source": [
        "predictions = cross_val_predict2(estimator=model, X=X, y=y, cv=tscv, verbose=1)\n",
        "\n",
        "print(len(predictions))"
      ],
      "execution_count": 125,
      "outputs": [
        {
          "output_type": "stream",
          "text": [
            "cv-iteration 1/5\n",
            "cv-iteration 2/5\n",
            "cv-iteration 3/5\n",
            "cv-iteration 4/5\n",
            "cv-iteration 5/5\n",
            "80\n"
          ],
          "name": "stdout"
        }
      ]
    },
    {
      "cell_type": "markdown",
      "metadata": {
        "id": "j-diHvh5pbr5",
        "colab_type": "text"
      },
      "source": [
        "### Test if this method still works for other cv methods\n",
        "\n"
      ]
    },
    {
      "cell_type": "code",
      "metadata": {
        "id": "2Kvv2tWXpbOX",
        "colab_type": "code",
        "colab": {}
      },
      "source": [
        "pred1 = cross_val_predict(estimator=model, X=X, y=y, cv=kfoldcv, n_jobs=-1, verbose=0)\n",
        "pred2 = cross_val_predict2(estimator=model, X=X, y=y, cv=kfoldcv, verbose=0)\n",
        "\n",
        "assert np.allclose(pred1, pred2)"
      ],
      "execution_count": 126,
      "outputs": []
    },
    {
      "cell_type": "code",
      "metadata": {
        "id": "o0tXOVy5o0aC",
        "colab_type": "code",
        "colab": {
          "base_uri": "https://localhost:8080/",
          "height": 82
        },
        "outputId": "0c97841e-8812-4918-bc47-26c2aa578692"
      },
      "source": [
        "print(pred1[:10])\n",
        "print(pred2[:10])"
      ],
      "execution_count": 127,
      "outputs": [
        {
          "output_type": "stream",
          "text": [
            "[ 10.59601114 -40.71473302  22.16841067  28.40303972  32.06705469\n",
            " -60.41445802  35.44529266  13.88954642 -34.04926085 -26.01019357]\n",
            "[ 10.59601114 -40.71473302  22.16841067  28.40303972  32.06705469\n",
            " -60.41445802  35.44529266  13.88954642 -34.04926085 -26.01019357]\n"
          ],
          "name": "stdout"
        }
      ]
    },
    {
      "cell_type": "code",
      "metadata": {
        "id": "UUMDn2zKp2Fp",
        "colab_type": "code",
        "colab": {}
      },
      "source": [
        ""
      ],
      "execution_count": null,
      "outputs": []
    }
  ]
}